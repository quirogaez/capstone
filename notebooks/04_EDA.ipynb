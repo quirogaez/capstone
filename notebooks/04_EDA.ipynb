{
  "nbformat": 4,
  "nbformat_minor": 0,
  "metadata": {
    "colab": {
      "provenance": [],
      "authorship_tag": "ABX9TyPEZxkIz33PB+0WBpjY1JX7",
      "include_colab_link": true
    },
    "kernelspec": {
      "name": "python3",
      "display_name": "Python 3"
    },
    "language_info": {
      "name": "python"
    }
  },
  "cells": [
    {
      "cell_type": "markdown",
      "metadata": {
        "id": "view-in-github",
        "colab_type": "text"
      },
      "source": [
        "<a href=\"https://colab.research.google.com/github/quirogaez/capstone/blob/main/notebooks/04_EDA.ipynb\" target=\"_parent\"><img src=\"https://colab.research.google.com/assets/colab-badge.svg\" alt=\"Open In Colab\"/></a>"
      ]
    },
    {
      "cell_type": "markdown",
      "source": [
        "# **04_EDA – Aplicación de Clusterización y Balanceo a Conjuntos de Testeo y Validación**"
      ],
      "metadata": {
        "id": "008CGhuY6bQN"
      }
    },
    {
      "cell_type": "markdown",
      "source": [
        "## Importación y cargue de imágenes"
      ],
      "metadata": {
        "id": "MrXR1El1W0Su"
      }
    },
    {
      "cell_type": "markdown",
      "source": [
        "Importar librerías"
      ],
      "metadata": {
        "id": "lZieH3eujJtC"
      }
    },
    {
      "cell_type": "code",
      "source": [
        "import os\n",
        "import cv2\n",
        "import numpy as np\n",
        "import pandas as pd\n",
        "import matplotlib.pyplot as plt\n",
        "import tensorflow as tf\n",
        "\n",
        "import joblib\n",
        "import shutil\n",
        "from tqdm import tqdm\n",
        "from sklearn.metrics import silhouette_score, silhouette_samples, davies_bouldin_score"
      ],
      "metadata": {
        "id": "wzTViWOb6o7W"
      },
      "execution_count": 15,
      "outputs": []
    },
    {
      "cell_type": "code",
      "source": [
        "from google.colab import drive\n",
        "drive.mount('/content/drive')"
      ],
      "metadata": {
        "colab": {
          "base_uri": "https://localhost:8080/"
        },
        "id": "juZx8d556pOJ",
        "outputId": "3255bb80-74c4-419a-cbf0-ad74b94ad926"
      },
      "execution_count": 2,
      "outputs": [
        {
          "output_type": "stream",
          "name": "stdout",
          "text": [
            "Mounted at /content/drive\n"
          ]
        }
      ]
    },
    {
      "cell_type": "markdown",
      "source": [
        "### Definir rutas"
      ],
      "metadata": {
        "id": "dHYbdVPr6x23"
      }
    },
    {
      "cell_type": "code",
      "source": [
        "# Rutas de las imágenes segmentadas\n",
        "img_vali = '/content/drive/MyDrive/Capstone/data/pre_procesamiento/segmentadas_sobel/sob_vali'\n",
        "img_test = '/content/drive/MyDrive/Capstone/data/pre_procesamiento/segmentadas_sobel/sob_test'\n",
        "\n",
        "# Ruta de los modelos guardados\n",
        "modelo_dir = '/content/drive/MyDrive/Capstone/modelos'"
      ],
      "metadata": {
        "id": "fQirhmbh6ran"
      },
      "execution_count": 3,
      "outputs": []
    },
    {
      "cell_type": "markdown",
      "source": [
        "### Cargar Modelos Guardados"
      ],
      "metadata": {
        "id": "WxVqbGVt68qp"
      }
    },
    {
      "cell_type": "code",
      "source": [
        "pca = joblib.load(f'{modelo_dir}/pca_pneumonia.pkl')\n",
        "kmeans = joblib.load(f'{modelo_dir}/kmeans_pneumonia.pkl')"
      ],
      "metadata": {
        "id": "anZJtM0965lb"
      },
      "execution_count": 4,
      "outputs": []
    },
    {
      "cell_type": "markdown",
      "source": [
        "## Preparar Datasets"
      ],
      "metadata": {
        "id": "ixB_luN56_Wi"
      }
    },
    {
      "cell_type": "code",
      "source": [
        "# Normalización\n",
        "normalizar = lambda x, y: (tf.cast(x, tf.float32) / 255.0, y)\n",
        "AUTOTUNE = tf.data.AUTOTUNE\n",
        "\n",
        "# Cargar datasets\n",
        "val_ds = tf.keras.preprocessing.image_dataset_from_directory(\n",
        "    img_vali, batch_size = 32, label_mode = 'categorical'\n",
        ").map(normalizar).prefetch(AUTOTUNE)\n",
        "\n",
        "test_ds = tf.keras.preprocessing.image_dataset_from_directory(\n",
        "    img_test, batch_size = 32, label_mode = 'categorical'\n",
        ").map(normalizar).prefetch(AUTOTUNE)\n",
        "\n",
        "class_names = ['NORMAL', 'PNEUMONIA']\n",
        "indice_pneumonia = class_names.index('PNEUMONIA')"
      ],
      "metadata": {
        "colab": {
          "base_uri": "https://localhost:8080/"
        },
        "id": "GNH250pd7B_S",
        "outputId": "6fbfd86d-4fb0-4fcf-da85-63ec49a72fc0"
      },
      "execution_count": 5,
      "outputs": [
        {
          "output_type": "stream",
          "name": "stdout",
          "text": [
            "Found 16 files belonging to 2 classes.\n",
            "Found 624 files belonging to 2 classes.\n"
          ]
        }
      ]
    },
    {
      "cell_type": "markdown",
      "source": [
        "Función de Conversión a `Numpy`"
      ],
      "metadata": {
        "id": "CBnMTjjD7J_6"
      }
    },
    {
      "cell_type": "code",
      "source": [
        "def dataset_to_numpy(dataset):\n",
        "    images_list = []\n",
        "    labels_list = []\n",
        "    for batch in dataset:\n",
        "        images, labels = batch\n",
        "        images_list.append(images.numpy())\n",
        "        labels_list.append(labels.numpy())\n",
        "    images_np = np.concatenate(images_list, axis = 0)\n",
        "    labels_np = np.concatenate(labels_list, axis = 0)\n",
        "    return images_np, labels_np"
      ],
      "metadata": {
        "id": "AMd7hW0v7HNb"
      },
      "execution_count": 6,
      "outputs": []
    },
    {
      "cell_type": "markdown",
      "source": [
        "Función para Aplicar Modelo"
      ],
      "metadata": {
        "id": "lhw1guEh7SqD"
      }
    },
    {
      "cell_type": "code",
      "source": [
        "def aplicar_modelo(X, y, pca, kmeans, indice_pneumonia):\n",
        "    # Filtrar imágenes con neumonía\n",
        "    mascara_pneumonia = np.argmax(y, axis = 1) == indice_pneumonia\n",
        "    X_pneumonia = X[mascara_pneumonia]\n",
        "\n",
        "    # Flatten\n",
        "    X_pneumonia_flat = X_pneumonia.reshape(X_pneumonia.shape[0], -1)\n",
        "\n",
        "    # PCA y KMeans\n",
        "    X_pneumonia_pca = pca.transform(X_pneumonia_flat)\n",
        "    clusters = kmeans.predict(X_pneumonia_pca)\n",
        "\n",
        "    # Asignar etiquetas\n",
        "    df_pneumonia = pd.DataFrame({'Cluster': clusters})\n",
        "    df_pneumonia['Label'] = df_pneumonia['Cluster'].map({\n",
        "        0: 'PNEUMONIA-BACTERIAL',\n",
        "        1: 'PNEUMONIA-VIRAL'\n",
        "    })\n",
        "\n",
        "    nuevas_etiquetas = []\n",
        "    indice_actual = 0\n",
        "\n",
        "    for idx in range(len(y)):\n",
        "        if np.argmax(y[idx]) == indice_pneumonia:\n",
        "            nuevas_etiquetas.append(df_pneumonia.iloc[indice_actual]['Label'])\n",
        "            indice_actual += 1\n",
        "        else:\n",
        "            nuevas_etiquetas.append('NORMAL')\n",
        "\n",
        "    return nuevas_etiquetas"
      ],
      "metadata": {
        "id": "qHIcY_ER7KZr"
      },
      "execution_count": 7,
      "outputs": []
    },
    {
      "cell_type": "markdown",
      "source": [
        "## Aplicar clusterización a los conjuntos de datos"
      ],
      "metadata": {
        "id": "cb74JgH47WEr"
      }
    },
    {
      "cell_type": "markdown",
      "source": [
        "Conjunto de validación"
      ],
      "metadata": {
        "id": "p94nI0HN7aak"
      }
    },
    {
      "cell_type": "code",
      "source": [
        "# Convertir dataset a numpy\n",
        "X_val, y_val = dataset_to_numpy(val_ds)\n",
        "\n",
        "# Aplicar modelo\n",
        "nuevas_etiquetas_val = aplicar_modelo(X_val, y_val, pca, kmeans, indice_pneumonia)\n",
        "\n",
        "# Mostrar distribución\n",
        "print(pd.Series(nuevas_etiquetas_val).value_counts())"
      ],
      "metadata": {
        "colab": {
          "base_uri": "https://localhost:8080/"
        },
        "id": "uh6uTuZG7TIs",
        "outputId": "03d97582-1b5f-4254-dc6c-1741568a4a69"
      },
      "execution_count": 8,
      "outputs": [
        {
          "output_type": "stream",
          "name": "stdout",
          "text": [
            "NORMAL                 8\n",
            "PNEUMONIA-BACTERIAL    4\n",
            "PNEUMONIA-VIRAL        4\n",
            "Name: count, dtype: int64\n"
          ]
        }
      ]
    },
    {
      "cell_type": "markdown",
      "source": [
        "Conjunto de testeo"
      ],
      "metadata": {
        "id": "-g-He8bn7et0"
      }
    },
    {
      "cell_type": "code",
      "source": [
        "# Convertir dataset a numpy\n",
        "X_test, y_test = dataset_to_numpy(test_ds)\n",
        "\n",
        "# Aplicar modelo\n",
        "nuevas_etiquetas_test = aplicar_modelo(X_test, y_test, pca, kmeans, indice_pneumonia)\n",
        "\n",
        "# Mostrar distribución\n",
        "print(pd.Series(nuevas_etiquetas_test).value_counts())"
      ],
      "metadata": {
        "colab": {
          "base_uri": "https://localhost:8080/"
        },
        "id": "DVkxPkUp7dX1",
        "outputId": "8bfa1ea4-fde6-4302-a93b-02e601e95329"
      },
      "execution_count": 9,
      "outputs": [
        {
          "output_type": "stream",
          "name": "stdout",
          "text": [
            "NORMAL                 234\n",
            "PNEUMONIA-BACTERIAL    199\n",
            "PNEUMONIA-VIRAL        191\n",
            "Name: count, dtype: int64\n"
          ]
        }
      ]
    },
    {
      "cell_type": "markdown",
      "source": [
        "## Guardar imágenes clasificadas"
      ],
      "metadata": {
        "id": "1gUPY6qc7kWV"
      }
    },
    {
      "cell_type": "markdown",
      "source": [
        "Crear las carpetas"
      ],
      "metadata": {
        "id": "DidhIqGD7pX-"
      }
    },
    {
      "cell_type": "code",
      "source": [
        "# Crear carpetas para validación y test\n",
        "base_output_dir = '/content/drive/MyDrive/Capstone/data/multiclass'\n",
        "\n",
        "val_output_dir = f'{base_output_dir}/val'\n",
        "test_output_dir = f'{base_output_dir}/test'\n",
        "\n",
        "for path in [val_output_dir, test_output_dir]:\n",
        "    os.makedirs(f'{path}/NORMAL', exist_ok = True)\n",
        "    os.makedirs(f'{path}/PNEUMONIA-BACTERIAL', exist_ok = True)\n",
        "    os.makedirs(f'{path}/PNEUMONIA-VIRAL', exist_ok = True)"
      ],
      "metadata": {
        "id": "ils8O1Lc7hV9"
      },
      "execution_count": 10,
      "outputs": []
    },
    {
      "cell_type": "markdown",
      "source": [
        "Exportar las Imágenes del Conjunto de Validación"
      ],
      "metadata": {
        "id": "HXmBP2Su7vdH"
      }
    },
    {
      "cell_type": "code",
      "source": [
        "# Archivos fuente\n",
        "pneumonia_files_val = os.listdir(os.path.join(img_vali, 'PNEUMONIA'))\n",
        "normal_files_val = os.listdir(os.path.join(img_vali, 'NORMAL'))\n",
        "\n",
        "indice_actual = 0\n",
        "\n",
        "for i, label in enumerate(nuevas_etiquetas_val):\n",
        "    if label == 'NORMAL':\n",
        "        filename = normal_files_val.pop(0)\n",
        "        src_path = os.path.join(img_vali, 'NORMAL', filename)\n",
        "        dst_path = os.path.join(val_output_dir, 'NORMAL', filename)\n",
        "    else:\n",
        "        filename = pneumonia_files_val[indice_actual]\n",
        "        src_path = os.path.join(img_vali, 'PNEUMONIA', filename)\n",
        "\n",
        "        if label == 'PNEUMONIA-BACTERIAL':\n",
        "            dst_path = os.path.join(val_output_dir, 'PNEUMONIA-BACTERIAL', filename)\n",
        "        else:\n",
        "            dst_path = os.path.join(val_output_dir, 'PNEUMONIA-VIRAL', filename)\n",
        "\n",
        "        indice_actual += 1\n",
        "\n",
        "    shutil.copy(src_path, dst_path)"
      ],
      "metadata": {
        "id": "0NgwCqZH7uHO"
      },
      "execution_count": 12,
      "outputs": []
    },
    {
      "cell_type": "markdown",
      "source": [
        "Exportar las Imágenes del Conjunto de Testeo"
      ],
      "metadata": {
        "id": "zM_HkO0q72op"
      }
    },
    {
      "cell_type": "code",
      "source": [
        "# Archivos fuente\n",
        "pneumonia_files_test = os.listdir(os.path.join(img_test, 'PNEUMONIA'))\n",
        "normal_files_test = os.listdir(os.path.join(img_test, 'NORMAL'))\n",
        "\n",
        "indice_actual = 0\n",
        "\n",
        "for i, label in enumerate(nuevas_etiquetas_test):\n",
        "    if label == 'NORMAL':\n",
        "        filename = normal_files_test.pop(0)\n",
        "        src_path = os.path.join(img_test, 'NORMAL', filename)\n",
        "        dst_path = os.path.join(test_output_dir, 'NORMAL', filename)\n",
        "    else:\n",
        "        filename = pneumonia_files_test[indice_actual]\n",
        "        src_path = os.path.join(img_test, 'PNEUMONIA', filename)\n",
        "\n",
        "        if label == 'PNEUMONIA-BACTERIAL':\n",
        "            dst_path = os.path.join(test_output_dir, 'PNEUMONIA-BACTERIAL', filename)\n",
        "        else:\n",
        "            dst_path = os.path.join(test_output_dir, 'PNEUMONIA-VIRAL', filename)\n",
        "\n",
        "        indice_actual += 1\n",
        "\n",
        "    shutil.copy(src_path, dst_path)"
      ],
      "metadata": {
        "id": "R99LMzti71lf"
      },
      "execution_count": 14,
      "outputs": []
    }
  ]
}