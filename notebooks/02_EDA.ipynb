{
  "nbformat": 4,
  "nbformat_minor": 0,
  "metadata": {
    "colab": {
      "provenance": [],
      "gpuType": "T4",
      "include_colab_link": true
    },
    "kernelspec": {
      "name": "python3",
      "display_name": "Python 3"
    },
    "language_info": {
      "name": "python"
    },
    "accelerator": "GPU"
  },
  "cells": [
    {
      "cell_type": "markdown",
      "metadata": {
        "id": "view-in-github",
        "colab_type": "text"
      },
      "source": [
        "<a href=\"https://colab.research.google.com/github/quirogaez/capstone/blob/main/notebooks/02_EDA.ipynb\" target=\"_parent\"><img src=\"https://colab.research.google.com/assets/colab-badge.svg\" alt=\"Open In Colab\"/></a>"
      ]
    },
    {
      "cell_type": "markdown",
      "source": [
        "# **02_EDA – Procesamiento Final de Imágenes**"
      ],
      "metadata": {
        "id": "P_D_ttioyRxe"
      }
    },
    {
      "cell_type": "markdown",
      "source": [
        "## Importación y cargue de imágenes"
      ],
      "metadata": {
        "id": "MrXR1El1W0Su"
      }
    },
    {
      "cell_type": "markdown",
      "source": [
        "Importar librerías"
      ],
      "metadata": {
        "id": "lZieH3eujJtC"
      }
    },
    {
      "cell_type": "code",
      "execution_count": 1,
      "metadata": {
        "id": "bdeec71b"
      },
      "outputs": [],
      "source": [
        "import os\n",
        "import cv2\n",
        "import random\n",
        "import numpy as np\n",
        "import pandas as pd\n",
        "import seaborn as sns\n",
        "from glob import glob\n",
        "from PIL import Image\n",
        "from tqdm import tqdm\n",
        "import matplotlib.pyplot as plt\n",
        "import matplotlib.image as mpimg\n",
        "from collections import defaultdict\n",
        "\n",
        "\n",
        "import tensorflow as tf\n",
        "from sklearn.manifold import TSNE\n",
        "from sklearn.cluster import KMeans\n",
        "from sklearn.decomposition import PCA\n",
        "from sklearn.metrics import silhouette_score"
      ]
    },
    {
      "cell_type": "code",
      "source": [
        "from google.colab import drive\n",
        "drive.mount('/content/drive')"
      ],
      "metadata": {
        "id": "_DhD0ZDpQwoT",
        "outputId": "2874620b-ff29-4f13-cf1f-bfc50eceb16a",
        "colab": {
          "base_uri": "https://localhost:8080/",
          "height": 304
        }
      },
      "execution_count": 2,
      "outputs": [
        {
          "output_type": "error",
          "ename": "MessageError",
          "evalue": "Error: credential propagation was unsuccessful",
          "traceback": [
            "\u001b[0;31m---------------------------------------------------------------------------\u001b[0m",
            "\u001b[0;31mMessageError\u001b[0m                              Traceback (most recent call last)",
            "\u001b[0;32m/tmp/ipython-input-2-1408506528.py\u001b[0m in \u001b[0;36m<cell line: 0>\u001b[0;34m()\u001b[0m\n\u001b[1;32m      1\u001b[0m \u001b[0;32mfrom\u001b[0m \u001b[0mgoogle\u001b[0m\u001b[0;34m.\u001b[0m\u001b[0mcolab\u001b[0m \u001b[0;32mimport\u001b[0m \u001b[0mdrive\u001b[0m\u001b[0;34m\u001b[0m\u001b[0;34m\u001b[0m\u001b[0m\n\u001b[0;32m----> 2\u001b[0;31m \u001b[0mdrive\u001b[0m\u001b[0;34m.\u001b[0m\u001b[0mmount\u001b[0m\u001b[0;34m(\u001b[0m\u001b[0;34m'/content/drive'\u001b[0m\u001b[0;34m)\u001b[0m\u001b[0;34m\u001b[0m\u001b[0;34m\u001b[0m\u001b[0m\n\u001b[0m",
            "\u001b[0;32m/usr/local/lib/python3.11/dist-packages/google/colab/drive.py\u001b[0m in \u001b[0;36mmount\u001b[0;34m(mountpoint, force_remount, timeout_ms, readonly)\u001b[0m\n\u001b[1;32m     98\u001b[0m \u001b[0;32mdef\u001b[0m \u001b[0mmount\u001b[0m\u001b[0;34m(\u001b[0m\u001b[0mmountpoint\u001b[0m\u001b[0;34m,\u001b[0m \u001b[0mforce_remount\u001b[0m\u001b[0;34m=\u001b[0m\u001b[0;32mFalse\u001b[0m\u001b[0;34m,\u001b[0m \u001b[0mtimeout_ms\u001b[0m\u001b[0;34m=\u001b[0m\u001b[0;36m120000\u001b[0m\u001b[0;34m,\u001b[0m \u001b[0mreadonly\u001b[0m\u001b[0;34m=\u001b[0m\u001b[0;32mFalse\u001b[0m\u001b[0;34m)\u001b[0m\u001b[0;34m:\u001b[0m\u001b[0;34m\u001b[0m\u001b[0;34m\u001b[0m\u001b[0m\n\u001b[1;32m     99\u001b[0m   \u001b[0;34m\"\"\"Mount your Google Drive at the specified mountpoint path.\"\"\"\u001b[0m\u001b[0;34m\u001b[0m\u001b[0;34m\u001b[0m\u001b[0m\n\u001b[0;32m--> 100\u001b[0;31m   return _mount(\n\u001b[0m\u001b[1;32m    101\u001b[0m       \u001b[0mmountpoint\u001b[0m\u001b[0;34m,\u001b[0m\u001b[0;34m\u001b[0m\u001b[0;34m\u001b[0m\u001b[0m\n\u001b[1;32m    102\u001b[0m       \u001b[0mforce_remount\u001b[0m\u001b[0;34m=\u001b[0m\u001b[0mforce_remount\u001b[0m\u001b[0;34m,\u001b[0m\u001b[0;34m\u001b[0m\u001b[0;34m\u001b[0m\u001b[0m\n",
            "\u001b[0;32m/usr/local/lib/python3.11/dist-packages/google/colab/drive.py\u001b[0m in \u001b[0;36m_mount\u001b[0;34m(mountpoint, force_remount, timeout_ms, ephemeral, readonly)\u001b[0m\n\u001b[1;32m    135\u001b[0m   )\n\u001b[1;32m    136\u001b[0m   \u001b[0;32mif\u001b[0m \u001b[0mephemeral\u001b[0m\u001b[0;34m:\u001b[0m\u001b[0;34m\u001b[0m\u001b[0;34m\u001b[0m\u001b[0m\n\u001b[0;32m--> 137\u001b[0;31m     _message.blocking_request(\n\u001b[0m\u001b[1;32m    138\u001b[0m         \u001b[0;34m'request_auth'\u001b[0m\u001b[0;34m,\u001b[0m\u001b[0;34m\u001b[0m\u001b[0;34m\u001b[0m\u001b[0m\n\u001b[1;32m    139\u001b[0m         \u001b[0mrequest\u001b[0m\u001b[0;34m=\u001b[0m\u001b[0;34m{\u001b[0m\u001b[0;34m'authType'\u001b[0m\u001b[0;34m:\u001b[0m \u001b[0;34m'dfs_ephemeral'\u001b[0m\u001b[0;34m}\u001b[0m\u001b[0;34m,\u001b[0m\u001b[0;34m\u001b[0m\u001b[0;34m\u001b[0m\u001b[0m\n",
            "\u001b[0;32m/usr/local/lib/python3.11/dist-packages/google/colab/_message.py\u001b[0m in \u001b[0;36mblocking_request\u001b[0;34m(request_type, request, timeout_sec, parent)\u001b[0m\n\u001b[1;32m    174\u001b[0m       \u001b[0mrequest_type\u001b[0m\u001b[0;34m,\u001b[0m \u001b[0mrequest\u001b[0m\u001b[0;34m,\u001b[0m \u001b[0mparent\u001b[0m\u001b[0;34m=\u001b[0m\u001b[0mparent\u001b[0m\u001b[0;34m,\u001b[0m \u001b[0mexpect_reply\u001b[0m\u001b[0;34m=\u001b[0m\u001b[0;32mTrue\u001b[0m\u001b[0;34m\u001b[0m\u001b[0;34m\u001b[0m\u001b[0m\n\u001b[1;32m    175\u001b[0m   )\n\u001b[0;32m--> 176\u001b[0;31m   \u001b[0;32mreturn\u001b[0m \u001b[0mread_reply_from_input\u001b[0m\u001b[0;34m(\u001b[0m\u001b[0mrequest_id\u001b[0m\u001b[0;34m,\u001b[0m \u001b[0mtimeout_sec\u001b[0m\u001b[0;34m)\u001b[0m\u001b[0;34m\u001b[0m\u001b[0;34m\u001b[0m\u001b[0m\n\u001b[0m",
            "\u001b[0;32m/usr/local/lib/python3.11/dist-packages/google/colab/_message.py\u001b[0m in \u001b[0;36mread_reply_from_input\u001b[0;34m(message_id, timeout_sec)\u001b[0m\n\u001b[1;32m    101\u001b[0m     ):\n\u001b[1;32m    102\u001b[0m       \u001b[0;32mif\u001b[0m \u001b[0;34m'error'\u001b[0m \u001b[0;32min\u001b[0m \u001b[0mreply\u001b[0m\u001b[0;34m:\u001b[0m\u001b[0;34m\u001b[0m\u001b[0;34m\u001b[0m\u001b[0m\n\u001b[0;32m--> 103\u001b[0;31m         \u001b[0;32mraise\u001b[0m \u001b[0mMessageError\u001b[0m\u001b[0;34m(\u001b[0m\u001b[0mreply\u001b[0m\u001b[0;34m[\u001b[0m\u001b[0;34m'error'\u001b[0m\u001b[0;34m]\u001b[0m\u001b[0;34m)\u001b[0m\u001b[0;34m\u001b[0m\u001b[0;34m\u001b[0m\u001b[0m\n\u001b[0m\u001b[1;32m    104\u001b[0m       \u001b[0;32mreturn\u001b[0m \u001b[0mreply\u001b[0m\u001b[0;34m.\u001b[0m\u001b[0mget\u001b[0m\u001b[0;34m(\u001b[0m\u001b[0;34m'data'\u001b[0m\u001b[0;34m,\u001b[0m \u001b[0;32mNone\u001b[0m\u001b[0;34m)\u001b[0m\u001b[0;34m\u001b[0m\u001b[0;34m\u001b[0m\u001b[0m\n\u001b[1;32m    105\u001b[0m \u001b[0;34m\u001b[0m\u001b[0m\n",
            "\u001b[0;31mMessageError\u001b[0m: Error: credential propagation was unsuccessful"
          ]
        }
      ]
    },
    {
      "cell_type": "markdown",
      "source": [
        "### Llamar los archivos"
      ],
      "metadata": {
        "id": "yZpE2CDQXDfg"
      }
    },
    {
      "cell_type": "code",
      "source": [
        "# #Imagenes sin segmentar\n",
        "# img_vali = '/content/drive/MyDrive/Capstone/data/pre_procesamiento/redimensionadas/redi_vali'\n",
        "# img_train = '/content/drive/MyDrive/Capstone/data/pre_procesamiento/redimensionadas/redi_train'\n",
        "# img_test = '/content/drive/MyDrive/Capstone/data/pre_procesamiento/redimensionadas/redi_test'\n",
        "\n",
        "\n",
        "#Imagenes segmentadas\n",
        "img_vali = '/content/drive/MyDrive/Capstone/data/pre_procesamiento/segmentadas_sobel/sob_vali'\n",
        "img_train = '/content/drive/MyDrive/Capstone/data/pre_procesamiento/segmentadas_sobel/sob_train'\n",
        "img_test = '/content/drive/MyDrive/Capstone/data/pre_procesamiento/segmentadas_sobel/sob_test'\n",
        "\n",
        "# Ver archivos en la carpeta\n",
        "df_vali = os.listdir(img_vali)\n",
        "df_train = os.listdir(img_train)\n",
        "df_test = os.listdir(img_test)"
      ],
      "metadata": {
        "id": "SI6EUYnRSXhK"
      },
      "execution_count": null,
      "outputs": []
    },
    {
      "cell_type": "markdown",
      "source": [
        "Función para revisión de cargue de imágenes"
      ],
      "metadata": {
        "id": "L3Ms35R20iHz"
      }
    },
    {
      "cell_type": "code",
      "source": [
        "def revisar_carpeta(base_dir):\n",
        "    info = {}\n",
        "    total_imagenes = 0\n",
        "    tamaños = defaultdict(int)\n",
        "\n",
        "    print(f\"\\nRevisando: {base_dir}\")\n",
        "    clases = os.listdir(base_dir)\n",
        "    print(f\"Clases encontradas: {clases}\")\n",
        "\n",
        "    for clase in clases:\n",
        "        ruta_clase = os.path.join(base_dir, clase)\n",
        "        archivos = os.listdir(ruta_clase)\n",
        "        total = len(archivos)\n",
        "        total_imagenes += total\n",
        "        info[clase] = total\n",
        "\n",
        "        # Revisar tamaños de las primeras 5 imágenes\n",
        "        for archivo in archivos[:5]:\n",
        "            ruta_img = os.path.join(ruta_clase, archivo)\n",
        "            img = cv2.imread(ruta_img)\n",
        "            if img is not None:\n",
        "                tamaños[img.shape[:2]] += 1  # Alto x Ancho\n",
        "\n",
        "    print(f\"Total imágenes: {total_imagenes}\")\n",
        "    print(\"Distribución por clase:\")\n",
        "    for clase, cantidad in info.items():\n",
        "        print(f\"  - {clase}: {cantidad} imágenes\")\n",
        "\n",
        "    print(\"Tamaños detectados (muestra):\")\n",
        "    for tamaño, cuenta in tamaños.items():\n",
        "        print(f\"  - {tamaño}: {cuenta} ejemplo(s)\")"
      ],
      "metadata": {
        "id": "6VWMOlrOFe_B"
      },
      "execution_count": null,
      "outputs": []
    },
    {
      "cell_type": "markdown",
      "source": [
        "Aplicar función `revisar_carpeta` a cada conjunto de datos"
      ],
      "metadata": {
        "id": "LG2s-1TT0ouz"
      }
    },
    {
      "cell_type": "code",
      "source": [
        "# Conjunto de entrenamiento\n",
        "revisar_carpeta(img_train)\n",
        "\n",
        "# Conjunto de valdiación\n",
        "revisar_carpeta(img_vali)\n",
        "\n",
        "# Conjunto de testeo\n",
        "revisar_carpeta(img_test)"
      ],
      "metadata": {
        "id": "pQ893wHdFh7p"
      },
      "execution_count": null,
      "outputs": []
    },
    {
      "cell_type": "markdown",
      "source": [
        "Cargar datasets"
      ],
      "metadata": {
        "id": "2oacBvsf035N"
      }
    },
    {
      "cell_type": "code",
      "execution_count": null,
      "metadata": {
        "id": "43NpcDjYJZZn"
      },
      "outputs": [],
      "source": [
        "train_ds = tf.keras.preprocessing.image_dataset_from_directory(\n",
        "    img_train, # Entrenamiento\n",
        "    batch_size = 32,\n",
        "    label_mode = 'categorical'\n",
        ")\n",
        "\n",
        "test_ds = tf.keras.preprocessing.image_dataset_from_directory(\n",
        "    img_test, # Testeo\n",
        "    batch_size = 32,\n",
        "    label_mode = 'categorical'\n",
        ")\n",
        "\n",
        "val_ds = tf.keras.preprocessing.image_dataset_from_directory(\n",
        "    img_vali, # Validación\n",
        "    batch_size = 32,\n",
        "    label_mode = 'categorical'\n",
        ")"
      ]
    },
    {
      "cell_type": "markdown",
      "source": [
        "## Procesamiento final de imágenes"
      ],
      "metadata": {
        "id": "3P7sFTc21Bt-"
      }
    },
    {
      "cell_type": "markdown",
      "source": [
        "### Normalización"
      ],
      "metadata": {
        "id": "71UhieSimCeb"
      }
    },
    {
      "cell_type": "code",
      "source": [
        "normalizar = lambda x, y: (tf.cast(x, tf.float32) / 255.0, y)\n",
        "AUTOTUNE = tf.data.AUTOTUNE\n",
        "\n",
        "train_ds = train_ds.map(normalizar).prefetch(AUTOTUNE)\n",
        "val_ds = val_ds.map(normalizar).prefetch(AUTOTUNE)\n",
        "test_ds = test_ds.map(normalizar).prefetch(AUTOTUNE)"
      ],
      "metadata": {
        "id": "Kkw7mz9SmCNT"
      },
      "execution_count": null,
      "outputs": []
    },
    {
      "cell_type": "markdown",
      "source": [
        "## Aplicación de clusterización para diferenciar la neumonía viral y bacteriana"
      ],
      "metadata": {
        "id": "2iGdUpxogN9n"
      }
    },
    {
      "cell_type": "markdown",
      "source": [
        "### *Flatten* o extracción de características"
      ],
      "metadata": {
        "id": "NX5UQcjNXh4C"
      }
    },
    {
      "cell_type": "code",
      "source": [
        "# Extraer datos del dataset completo\n",
        "class_names = ['NORMAL', 'PNEUMONIA']\n",
        "\n",
        "def dataset_to_numpy(dataset):\n",
        "    images_list = []\n",
        "    labels_list = []\n",
        "    for batch in dataset:\n",
        "        images, labels = batch\n",
        "        images_list.append(images.numpy())\n",
        "        labels_list.append(labels.numpy())\n",
        "    images_np = np.concatenate(images_list, axis=0)\n",
        "    labels_np = np.concatenate(labels_list, axis=0)\n",
        "    return images_np, labels_np\n",
        "\n",
        "# Convertir los datos a vector\n",
        "X_train, y_train = dataset_to_numpy(train_ds)\n",
        "\n",
        "# Identificar índice de la clase \"PNEUMONIA\"\n",
        "print(\"Clases:\", class_names)  # ['NORMAL', 'PNEUMONIA']\n",
        "indice_pneumonia = class_names.index('PNEUMONIA')"
      ],
      "metadata": {
        "id": "JOoXsyIfXk2r"
      },
      "execution_count": null,
      "outputs": []
    },
    {
      "cell_type": "markdown",
      "source": [
        "Filtrar solo las imágenes con 'PNEUMONIA'"
      ],
      "metadata": {
        "id": "e_kllefBi7YR"
      }
    },
    {
      "cell_type": "code",
      "source": [
        "mascara_pneumonia = np.argmax(y_train, axis=1) == indice_pneumonia\n",
        "X_pneumonia = X_train[mascara_pneumonia]\n",
        "\n",
        "print(\"Cantidad de imágenes con neumonía:\", X_pneumonia.shape[0])"
      ],
      "metadata": {
        "id": "WpP6-bFQgqVR"
      },
      "execution_count": null,
      "outputs": []
    },
    {
      "cell_type": "markdown",
      "source": [
        "Flatten"
      ],
      "metadata": {
        "id": "soScBl39i9XR"
      }
    },
    {
      "cell_type": "code",
      "source": [
        "X_pneumonia_flat = X_pneumonia.reshape(X_pneumonia.shape[0], -1)\n",
        "\n",
        "print(\"Forma original:\", X_pneumonia[0].shape)\n",
        "print(\"Forma aplanada:\", X_pneumonia_flat[0].shape)"
      ],
      "metadata": {
        "id": "6QfMQJMRbTg9"
      },
      "execution_count": null,
      "outputs": []
    },
    {
      "cell_type": "markdown",
      "source": [
        "### Reducción de dimensionalidad"
      ],
      "metadata": {
        "id": "JCUHrPL1hBFr"
      }
    },
    {
      "cell_type": "markdown",
      "source": [
        "Reducir a $n$ dimensiones"
      ],
      "metadata": {
        "id": "0u6VaCFljAIh"
      }
    },
    {
      "cell_type": "code",
      "source": [
        "pca = PCA(n_components = 50, random_state = 42)\n",
        "X_pneumonia_pca = pca.fit_transform(X_pneumonia_flat)\n",
        "\n",
        "print(\"Nueva forma tras PCA:\", X_pneumonia_pca.shape)"
      ],
      "metadata": {
        "id": "MeSNoK-Pbw3A"
      },
      "execution_count": null,
      "outputs": []
    },
    {
      "cell_type": "markdown",
      "source": [
        "Dos clústeres para los tipos de neumonía: viral y bacteriana"
      ],
      "metadata": {
        "id": "K_Yb9EfIjEPq"
      }
    },
    {
      "cell_type": "code",
      "source": [
        "kmeans = KMeans(n_clusters = 2, random_state = 42)\n",
        "clusters = kmeans.fit_predict(X_pneumonia_pca)"
      ],
      "metadata": {
        "id": "c7PwQvq5bxKX"
      },
      "execution_count": null,
      "outputs": []
    },
    {
      "cell_type": "markdown",
      "source": [
        "### Visualizar imágenes por clústeres"
      ],
      "metadata": {
        "id": "WJov2qTlhXNe"
      }
    },
    {
      "cell_type": "code",
      "source": [
        "def mostrar_imagenes_por_cluster(imagenes, cluster_labels, cluster_id, cantidad = 10):\n",
        "    indices = np.where(cluster_labels == cluster_id)[0]\n",
        "    seleccionadas = np.random.choice(indices, min(cantidad, len(indices)), replace = False)\n",
        "\n",
        "    plt.figure(figsize = (15, 6))\n",
        "    for i, idx in enumerate(seleccionadas):\n",
        "        plt.subplot(2, 5, i + 1)\n",
        "        plt.imshow(imagenes[idx])\n",
        "        plt.title(f\"Cluster {cluster_id}\")\n",
        "        plt.axis(\"off\")\n",
        "    plt.tight_layout()\n",
        "    plt.show()\n",
        "\n",
        "# Mostrar imágenes del cluster 0 y 1\n",
        "mostrar_imagenes_por_cluster(X_pneumonia, clusters, cluster_id = 0)\n",
        "mostrar_imagenes_por_cluster(X_pneumonia, clusters, cluster_id = 1)"
      ],
      "metadata": {
        "id": "IhQPPM4ebyTw"
      },
      "execution_count": null,
      "outputs": []
    },
    {
      "cell_type": "markdown",
      "source": [
        "Visualizar clústeres por TSNE"
      ],
      "metadata": {
        "id": "WS8kFhWmhp1w"
      }
    },
    {
      "cell_type": "code",
      "source": [
        "tsne = TSNE(n_components = 2, random_state = 42, perplexity = 30)\n",
        "X_pneumonia_2D = tsne.fit_transform(X_pneumonia_pca)\n",
        "\n",
        "plt.figure(figsize = (10, 6))\n",
        "plt.scatter(X_pneumonia_2D[:, 0], X_pneumonia_2D[:, 1], c = clusters, cmap='viridis', alpha = 0.6)\n",
        "plt.title(\"Visualización t-SNE de imágenes de neumonía agrupadas por K-Means\")\n",
        "plt.xlabel(\"Componente 1\")\n",
        "plt.ylabel(\"Componente 2\")\n",
        "plt.grid(True)\n",
        "plt.show()"
      ],
      "metadata": {
        "id": "7xw4dEVnbzf4"
      },
      "execution_count": null,
      "outputs": []
    },
    {
      "cell_type": "markdown",
      "source": [
        "### Coeficiente de Siluetta"
      ],
      "metadata": {
        "id": "UTAtdeVTh4U6"
      }
    },
    {
      "cell_type": "code",
      "source": [
        "# Usar los datos reducidos (PCA) para calcular la silueta\n",
        "score_silueta = silhouette_score(X_pneumonia_pca, clusters)\n",
        "print(f\"Coeficiente de silueta: {score_silueta:.4f}\")"
      ],
      "metadata": {
        "id": "SlH1tHQncbN0"
      },
      "execution_count": null,
      "outputs": []
    }
  ]
}