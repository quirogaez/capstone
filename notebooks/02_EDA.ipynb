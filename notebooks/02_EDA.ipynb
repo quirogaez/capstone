{
  "nbformat": 4,
  "nbformat_minor": 0,
  "metadata": {
    "colab": {
      "provenance": [],
      "authorship_tag": "ABX9TyOT0uEaDMZ07LIFxt0CqW7R",
      "include_colab_link": true
    },
    "kernelspec": {
      "name": "python3",
      "display_name": "Python 3"
    },
    "language_info": {
      "name": "python"
    }
  },
  "cells": [
    {
      "cell_type": "markdown",
      "metadata": {
        "id": "view-in-github",
        "colab_type": "text"
      },
      "source": [
        "<a href=\"https://colab.research.google.com/github/quirogaez/capstone/blob/main/notebooks/02_EDA.ipynb\" target=\"_parent\"><img src=\"https://colab.research.google.com/assets/colab-badge.svg\" alt=\"Open In Colab\"/></a>"
      ]
    },
    {
      "cell_type": "markdown",
      "source": [
        "## Importación y cargue de imágenes"
      ],
      "metadata": {
        "id": "MrXR1El1W0Su"
      }
    },
    {
      "cell_type": "markdown",
      "source": [
        "Importar librerías"
      ],
      "metadata": {
        "id": "lZieH3eujJtC"
      }
    },
    {
      "cell_type": "code",
      "execution_count": null,
      "metadata": {
        "id": "bdeec71b"
      },
      "outputs": [],
      "source": [
        "import os\n",
        "import random\n",
        "import numpy as np\n",
        "import pandas as pd\n",
        "import seaborn as sns\n",
        "from glob import glob\n",
        "from PIL import Image\n",
        "import matplotlib.pyplot as plt\n",
        "import matplotlib.image as mpimg\n",
        "import cv2\n",
        "from tqdm import tqdm\n",
        "from collections import defaultdict\n",
        "\n",
        "\n",
        "import tensorflow as tf\n",
        "from sklearn.manifold import TSNE\n",
        "from sklearn.cluster import KMeans\n",
        "from sklearn.decomposition import PCA\n",
        "from sklearn.metrics import silhouette_score"
      ]
    },
    {
      "cell_type": "code",
      "source": [
        "from google.colab import drive\n",
        "drive.mount('/content/drive')"
      ],
      "metadata": {
        "id": "_DhD0ZDpQwoT",
        "outputId": "9838db30-c2c1-46b2-aa72-27be0a3c4837",
        "colab": {
          "base_uri": "https://localhost:8080/"
        }
      },
      "execution_count": null,
      "outputs": [
        {
          "output_type": "stream",
          "name": "stdout",
          "text": [
            "Mounted at /content/drive\n"
          ]
        }
      ]
    },
    {
      "cell_type": "markdown",
      "source": [
        "### Llamar los archivos"
      ],
      "metadata": {
        "id": "yZpE2CDQXDfg"
      }
    },
    {
      "cell_type": "code",
      "source": [
        "# #Imagenes sin segmentar\n",
        "# img_vali = '/content/drive/MyDrive/Capstone/data/pre_procesamiento/redimensionadas/redi_vali'\n",
        "# img_train = '/content/drive/MyDrive/Capstone/data/pre_procesamiento/redimensionadas/redi_train'\n",
        "# img_test = '/content/drive/MyDrive/Capstone/data/pre_procesamiento/redimensionadas/redi_test'\n",
        "\n",
        "\n",
        "#Imagenes segmentadas\n",
        "img_vali = '/content/drive/MyDrive/Capstone/data/pre_procesamiento/segmentadas_sobel/sob_vali'\n",
        "img_train = '/content/drive/MyDrive/Capstone/data/pre_procesamiento/segmentadas_sobel/sob_train'\n",
        "img_test = '/content/drive/MyDrive/Capstone/data/pre_procesamiento/segmentadas_sobel/sob_test'\n",
        "\n",
        "# Ver archivos en la carpeta\n",
        "df_vali = os.listdir(img_vali)\n",
        "df_train = os.listdir(img_train)\n",
        "df_test = os.listdir(img_test)"
      ],
      "metadata": {
        "id": "SI6EUYnRSXhK"
      },
      "execution_count": null,
      "outputs": []
    },
    {
      "cell_type": "code",
      "source": [
        "def revisar_carpeta(base_dir):\n",
        "    info = {}\n",
        "    total_imagenes = 0\n",
        "    tamaños = defaultdict(int)\n",
        "\n",
        "    print(f\"\\n📂 Revisando: {base_dir}\")\n",
        "    clases = os.listdir(base_dir)\n",
        "    print(f\"Clases encontradas: {clases}\")\n",
        "\n",
        "    for clase in clases:\n",
        "        ruta_clase = os.path.join(base_dir, clase)\n",
        "        archivos = os.listdir(ruta_clase)\n",
        "        total = len(archivos)\n",
        "        total_imagenes += total\n",
        "        info[clase] = total\n",
        "\n",
        "        # Revisar tamaños de las primeras 5 imágenes\n",
        "        for archivo in archivos[:5]:\n",
        "            ruta_img = os.path.join(ruta_clase, archivo)\n",
        "            img = cv2.imread(ruta_img)\n",
        "            if img is not None:\n",
        "                tamaños[img.shape[:2]] += 1  # Alto x Ancho\n",
        "\n",
        "    print(f\"Total imágenes: {total_imagenes}\")\n",
        "    print(\"Distribución por clase:\")\n",
        "    for clase, cantidad in info.items():\n",
        "        print(f\"  - {clase}: {cantidad} imágenes\")\n",
        "\n",
        "    print(\"Tamaños detectados (muestra):\")\n",
        "    for tamaño, cuenta in tamaños.items():\n",
        "        print(f\"  - {tamaño}: {cuenta} ejemplo(s)\")"
      ],
      "metadata": {
        "id": "6VWMOlrOFe_B"
      },
      "execution_count": null,
      "outputs": []
    },
    {
      "cell_type": "code",
      "source": [
        "revisar_carpeta(img_train)\n",
        "revisar_carpeta(img_vali)\n",
        "revisar_carpeta(img_test)"
      ],
      "metadata": {
        "colab": {
          "base_uri": "https://localhost:8080/"
        },
        "id": "pQ893wHdFh7p",
        "outputId": "397742c8-2188-4396-d593-c8b655b4c97f"
      },
      "execution_count": null,
      "outputs": [
        {
          "output_type": "stream",
          "name": "stdout",
          "text": [
            "\n",
            "📂 Revisando: /content/drive/MyDrive/Capstone/data/pre_procesamiento/segmentadas_sobel/sob_train\n",
            "Clases encontradas: ['NORMAL', 'PNEUMONIA']\n",
            "Total imágenes: 5144\n",
            "Distribución por clase:\n",
            "  - NORMAL: 1269 imágenes\n",
            "  - PNEUMONIA: 3875 imágenes\n",
            "Tamaños detectados (muestra):\n",
            "  - (224, 224): 10 ejemplo(s)\n",
            "\n",
            "📂 Revisando: /content/drive/MyDrive/Capstone/data/pre_procesamiento/segmentadas_sobel/sob_vali\n",
            "Clases encontradas: ['NORMAL', 'PNEUMONIA']\n",
            "Total imágenes: 16\n",
            "Distribución por clase:\n",
            "  - NORMAL: 8 imágenes\n",
            "  - PNEUMONIA: 8 imágenes\n",
            "Tamaños detectados (muestra):\n",
            "  - (224, 224): 10 ejemplo(s)\n",
            "\n",
            "📂 Revisando: /content/drive/MyDrive/Capstone/data/pre_procesamiento/segmentadas_sobel/sob_test\n",
            "Clases encontradas: ['NORMAL', 'PNEUMONIA']\n",
            "Total imágenes: 624\n",
            "Distribución por clase:\n",
            "  - NORMAL: 234 imágenes\n",
            "  - PNEUMONIA: 390 imágenes\n",
            "Tamaños detectados (muestra):\n",
            "  - (224, 224): 10 ejemplo(s)\n"
          ]
        }
      ]
    },
    {
      "cell_type": "code",
      "execution_count": null,
      "metadata": {
        "colab": {
          "base_uri": "https://localhost:8080/"
        },
        "outputId": "4fa8db78-9438-4f4e-a1a7-1ec67a15ed98",
        "id": "43NpcDjYJZZn"
      },
      "outputs": [
        {
          "output_type": "stream",
          "name": "stdout",
          "text": [
            "Found 5144 files belonging to 2 classes.\n",
            "Found 16 files belonging to 2 classes.\n",
            "Found 624 files belonging to 2 classes.\n"
          ]
        }
      ],
      "source": [
        "# Cargar datasets\n",
        "train_ds = tf.keras.preprocessing.image_dataset_from_directory(\n",
        "    img_train, # Entrenamiento\n",
        "    batch_size = 32,\n",
        "    label_mode = 'categorical'\n",
        ")\n",
        "\n",
        "test_ds = tf.keras.preprocessing.image_dataset_from_directory(\n",
        "    img_test, # Testeo\n",
        "    batch_size=32,\n",
        "    label_mode='categorical'\n",
        ")\n",
        "\n",
        "val_ds = tf.keras.preprocessing.image_dataset_from_directory(\n",
        "    img_vali, # Validación\n",
        "    batch_size = 32,\n",
        "    label_mode = 'categorical'\n",
        ")"
      ]
    },
    {
      "cell_type": "markdown",
      "source": [
        "### Normalización"
      ],
      "metadata": {
        "id": "71UhieSimCeb"
      }
    },
    {
      "cell_type": "code",
      "source": [
        "normalizar = lambda x, y: (tf.cast(x, tf.float32) / 255.0, y)\n",
        "AUTOTUNE = tf.data.AUTOTUNE\n",
        "\n",
        "train_ds = train_ds.map(normalizar).prefetch(AUTOTUNE)\n",
        "val_ds = val_ds.map(normalizar).prefetch(AUTOTUNE)\n",
        "test_ds = test_ds.map(normalizar).prefetch(AUTOTUNE)"
      ],
      "metadata": {
        "id": "Kkw7mz9SmCNT"
      },
      "execution_count": null,
      "outputs": []
    },
    {
      "cell_type": "markdown",
      "source": [
        "## Aplicación de clusterización para diferenciar la neumonía viral y bacteriana"
      ],
      "metadata": {
        "id": "2iGdUpxogN9n"
      }
    },
    {
      "cell_type": "markdown",
      "source": [
        "### *Flatten* o extracción de características"
      ],
      "metadata": {
        "id": "NX5UQcjNXh4C"
      }
    },
    {
      "cell_type": "code",
      "source": [
        "# Extraer datos del dataset completo\n",
        "def dataset_to_numpy(dataset):\n",
        "    images_list = []\n",
        "    labels_list = []\n",
        "    for batch in dataset:\n",
        "        images, labels = batch\n",
        "        images_list.append(images.numpy())\n",
        "        labels_list.append(labels.numpy())\n",
        "    images_np = np.concatenate(images_list, axis=0)\n",
        "    labels_np = np.concatenate(labels_list, axis=0)\n",
        "    return images_np, labels_np\n",
        "\n",
        "# Convertir los datos a vector\n",
        "X_train, y_train = dataset_to_numpy(train_ds)\n",
        "\n",
        "# Identificar índice de la clase \"PNEUMONIA\"\n",
        "print(\"Clases:\", class_names)  # ['NORMAL', 'PNEUMONIA']\n",
        "indice_pneumonia = class_names.index('PNEUMONIA')"
      ],
      "metadata": {
        "id": "JOoXsyIfXk2r"
      },
      "execution_count": null,
      "outputs": []
    },
    {
      "cell_type": "markdown",
      "source": [
        "Filtrar solo las imágenes con 'PNEUMONIA'"
      ],
      "metadata": {
        "id": "e_kllefBi7YR"
      }
    },
    {
      "cell_type": "code",
      "source": [
        "mascara_pneumonia = np.argmax(y_train, axis=1) == indice_pneumonia\n",
        "X_pneumonia = X_train[mascara_pneumonia]\n",
        "\n",
        "print(\"Cantidad de imágenes con neumonía:\", X_pneumonia.shape[0])"
      ],
      "metadata": {
        "id": "WpP6-bFQgqVR",
        "outputId": "f855fe22-3228-43c3-98ca-1feb680bf360",
        "colab": {
          "base_uri": "https://localhost:8080/"
        }
      },
      "execution_count": null,
      "outputs": [
        {
          "output_type": "stream",
          "name": "stdout",
          "text": [
            "Cantidad de imágenes con neumonía: 3875\n"
          ]
        }
      ]
    },
    {
      "cell_type": "markdown",
      "source": [
        "Flatten"
      ],
      "metadata": {
        "id": "soScBl39i9XR"
      }
    },
    {
      "cell_type": "code",
      "source": [
        "X_pneumonia_flat = X_pneumonia.reshape(X_pneumonia.shape[0], -1)\n",
        "\n",
        "print(\"Forma original:\", X_pneumonia[0].shape)\n",
        "print(\"Forma aplanada:\", X_pneumonia_flat[0].shape)"
      ],
      "metadata": {
        "id": "6QfMQJMRbTg9",
        "outputId": "4c584d06-ffa9-401e-d0a2-d75a03b7ac39",
        "colab": {
          "base_uri": "https://localhost:8080/"
        }
      },
      "execution_count": null,
      "outputs": [
        {
          "output_type": "stream",
          "name": "stdout",
          "text": [
            "Forma original: (128, 128, 3)\n",
            "Forma aplanada: (49152,)\n"
          ]
        }
      ]
    },
    {
      "cell_type": "markdown",
      "source": [
        "### Reducción de dimensionalidad"
      ],
      "metadata": {
        "id": "JCUHrPL1hBFr"
      }
    },
    {
      "cell_type": "markdown",
      "source": [
        "Reducir a $n$ dimensiones"
      ],
      "metadata": {
        "id": "0u6VaCFljAIh"
      }
    },
    {
      "cell_type": "code",
      "source": [
        "#pca = PCA(n_components = 100, random_state = 42)\n",
        "X_pneumonia_pca = pca.fit_transform(X_pneumonia_flat)\n",
        "\n",
        "print(\"Nueva forma tras PCA:\", X_pneumonia_pca.shape)"
      ],
      "metadata": {
        "id": "MeSNoK-Pbw3A"
      },
      "execution_count": null,
      "outputs": []
    },
    {
      "cell_type": "markdown",
      "source": [
        "Dos clústeres para los tipos de neumonía: viral y bacteriana"
      ],
      "metadata": {
        "id": "K_Yb9EfIjEPq"
      }
    },
    {
      "cell_type": "code",
      "source": [
        "kmeans = KMeans(n_clusters = 2, random_state = 42)\n",
        "clusters = kmeans.fit_predict(X_pneumonia_pca)"
      ],
      "metadata": {
        "id": "c7PwQvq5bxKX"
      },
      "execution_count": null,
      "outputs": []
    },
    {
      "cell_type": "markdown",
      "source": [
        "### Visualizar imágenes por clústeres"
      ],
      "metadata": {
        "id": "WJov2qTlhXNe"
      }
    },
    {
      "cell_type": "code",
      "source": [
        "def mostrar_imagenes_por_cluster(imagenes, cluster_labels, cluster_id, cantidad = 10):\n",
        "    indices = np.where(cluster_labels == cluster_id)[0]\n",
        "    seleccionadas = np.random.choice(indices, min(cantidad, len(indices)), replace = False)\n",
        "\n",
        "    plt.figure(figsize = (15, 6))\n",
        "    for i, idx in enumerate(seleccionadas):\n",
        "        plt.subplot(2, 5, i + 1)\n",
        "        plt.imshow(imagenes[idx])\n",
        "        plt.title(f\"Cluster {cluster_id}\")\n",
        "        plt.axis(\"off\")\n",
        "    plt.tight_layout()\n",
        "    plt.show()\n",
        "\n",
        "# Mostrar imágenes del cluster 0 y 1\n",
        "mostrar_imagenes_por_cluster(X_pneumonia, clusters, cluster_id = 0)\n",
        "mostrar_imagenes_por_cluster(X_pneumonia, clusters, cluster_id = 1)"
      ],
      "metadata": {
        "id": "IhQPPM4ebyTw"
      },
      "execution_count": null,
      "outputs": []
    },
    {
      "cell_type": "markdown",
      "source": [
        "Visualizar clústeres por TSNE"
      ],
      "metadata": {
        "id": "WS8kFhWmhp1w"
      }
    },
    {
      "cell_type": "code",
      "source": [
        "tsne = TSNE(n_components = 2, random_state = 42, perplexity = 30)\n",
        "X_pneumonia_2D = tsne.fit_transform(X_pneumonia_pca)\n",
        "\n",
        "plt.figure(figsize = (10, 6))\n",
        "plt.scatter(X_pneumonia_2D[:, 0], X_pneumonia_2D[:, 1], c = clusters, cmap='viridis', alpha = 0.6)\n",
        "plt.title(\"Visualización t-SNE de imágenes de neumonía agrupadas por K-Means\")\n",
        "plt.xlabel(\"Componente 1\")\n",
        "plt.ylabel(\"Componente 2\")\n",
        "plt.grid(True)\n",
        "plt.show()"
      ],
      "metadata": {
        "id": "7xw4dEVnbzf4"
      },
      "execution_count": null,
      "outputs": []
    },
    {
      "cell_type": "markdown",
      "source": [
        "### Coeficiente de Siluetta"
      ],
      "metadata": {
        "id": "UTAtdeVTh4U6"
      }
    },
    {
      "cell_type": "code",
      "source": [
        "# Usar los datos reducidos (PCA) para calcular la silueta\n",
        "score_silueta = silhouette_score(X_pneumonia_pca, clusters)\n",
        "print(f\"Coeficiente de silueta: {score_silueta:.4f}\")"
      ],
      "metadata": {
        "id": "SlH1tHQncbN0"
      },
      "execution_count": null,
      "outputs": []
    }
  ]
}