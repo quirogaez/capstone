{
  "nbformat": 4,
  "nbformat_minor": 0,
  "metadata": {
    "colab": {
      "provenance": [],
      "gpuType": "T4",
      "include_colab_link": true
    },
    "kernelspec": {
      "name": "python3",
      "display_name": "Python 3"
    },
    "language_info": {
      "name": "python"
    },
    "accelerator": "GPU"
  },
  "cells": [
    {
      "cell_type": "markdown",
      "metadata": {
        "id": "view-in-github",
        "colab_type": "text"
      },
      "source": [
        "<a href=\"https://colab.research.google.com/github/quirogaez/capstone/blob/main/notebooks/02_EDA.ipynb\" target=\"_parent\"><img src=\"https://colab.research.google.com/assets/colab-badge.svg\" alt=\"Open In Colab\"/></a>"
      ]
    },
    {
      "cell_type": "markdown",
      "source": [
        "# **02_EDA – Procesamiento Final de Imágenes**"
      ],
      "metadata": {
        "id": "P_D_ttioyRxe"
      }
    },
    {
      "cell_type": "markdown",
      "source": [
        "## Importación y cargue de imágenes"
      ],
      "metadata": {
        "id": "MrXR1El1W0Su"
      }
    },
    {
      "cell_type": "markdown",
      "source": [
        "Importar librerías"
      ],
      "metadata": {
        "id": "lZieH3eujJtC"
      }
    },
    {
      "cell_type": "code",
      "execution_count": 1,
      "metadata": {
        "id": "bdeec71b"
      },
      "outputs": [],
      "source": [
        "import os\n",
        "import cv2\n",
        "import random\n",
        "import numpy as np\n",
        "import pandas as pd\n",
        "import seaborn as sns\n",
        "from glob import glob\n",
        "from PIL import Image\n",
        "from tqdm import tqdm\n",
        "import matplotlib.pyplot as plt\n",
        "import matplotlib.image as mpimg\n",
        "from collections import defaultdict\n",
        "\n",
        "\n",
        "import tensorflow as tf\n",
        "from sklearn.manifold import TSNE\n",
        "from sklearn.cluster import KMeans\n",
        "from sklearn.decomposition import PCA\n",
        "from sklearn.cluster import AgglomerativeClustering\n",
        "from sklearn.metrics import silhouette_score, silhouette_samples"
      ]
    },
    {
      "cell_type": "code",
      "source": [
        "from google.colab import drive\n",
        "drive.mount('/content/drive')"
      ],
      "metadata": {
        "id": "_DhD0ZDpQwoT",
        "outputId": "bc9c6d6f-5400-406c-c435-9af2cd75055c",
        "colab": {
          "base_uri": "https://localhost:8080/"
        }
      },
      "execution_count": 2,
      "outputs": [
        {
          "output_type": "stream",
          "name": "stdout",
          "text": [
            "Mounted at /content/drive\n"
          ]
        }
      ]
    },
    {
      "cell_type": "markdown",
      "source": [
        "### Llamar los archivos"
      ],
      "metadata": {
        "id": "yZpE2CDQXDfg"
      }
    },
    {
      "cell_type": "code",
      "source": [
        "# #Imagenes sin segmentar\n",
        "# img_vali = '/content/drive/MyDrive/Capstone/data/pre_procesamiento/redimensionadas/redi_vali'\n",
        "# img_train = '/content/drive/MyDrive/Capstone/data/pre_procesamiento/redimensionadas/redi_train'\n",
        "# img_test = '/content/drive/MyDrive/Capstone/data/pre_procesamiento/redimensionadas/redi_test'\n",
        "\n",
        "#Imagenes segmentadas\n",
        "img_vali = '/content/drive/MyDrive/Capstone/data/pre_procesamiento/segmentadas_sobel/sob_vali'\n",
        "img_train = '/content/drive/MyDrive/Capstone/data/pre_procesamiento/segmentadas_sobel/sob_train'\n",
        "img_test = '/content/drive/MyDrive/Capstone/data/pre_procesamiento/segmentadas_sobel/sob_test'\n",
        "\n",
        "# Ver archivos en la carpeta\n",
        "df_vali = os.listdir(img_vali)\n",
        "df_train = os.listdir(img_train)\n",
        "df_test = os.listdir(img_test)"
      ],
      "metadata": {
        "id": "SI6EUYnRSXhK"
      },
      "execution_count": 3,
      "outputs": []
    },
    {
      "cell_type": "markdown",
      "source": [
        "Función para revisión de cargue de imágenes"
      ],
      "metadata": {
        "id": "L3Ms35R20iHz"
      }
    },
    {
      "cell_type": "code",
      "source": [
        "def revisar_carpeta(base_dir):\n",
        "    info = {}\n",
        "    total_imagenes = 0\n",
        "    tamaños = defaultdict(int)\n",
        "\n",
        "    print(f\"\\nRevisando: {base_dir}\")\n",
        "    clases = os.listdir(base_dir)\n",
        "    print(f\"Clases encontradas: {clases}\")\n",
        "\n",
        "    for clase in clases:\n",
        "        ruta_clase = os.path.join(base_dir, clase)\n",
        "        archivos = os.listdir(ruta_clase)\n",
        "        total = len(archivos)\n",
        "        total_imagenes += total\n",
        "        info[clase] = total\n",
        "\n",
        "        # Revisar tamaños de las primeras 5 imágenes\n",
        "        for archivo in archivos[:5]:\n",
        "            ruta_img = os.path.join(ruta_clase, archivo)\n",
        "            img = cv2.imread(ruta_img)\n",
        "            if img is not None:\n",
        "                tamaños[img.shape[:2]] += 1  # Alto x Ancho\n",
        "\n",
        "    print(f\"Total imágenes: {total_imagenes}\")\n",
        "    print(\"Distribución por clase:\")\n",
        "    for clase, cantidad in info.items():\n",
        "        print(f\"  - {clase}: {cantidad} imágenes\")\n",
        "\n",
        "    print(\"Tamaños detectados (muestra):\")\n",
        "    for tamaño, cuenta in tamaños.items():\n",
        "        print(f\"  - {tamaño}: {cuenta} ejemplo(s)\")"
      ],
      "metadata": {
        "id": "6VWMOlrOFe_B"
      },
      "execution_count": 4,
      "outputs": []
    },
    {
      "cell_type": "markdown",
      "source": [
        "Aplicar función `revisar_carpeta` a cada conjunto de datos"
      ],
      "metadata": {
        "id": "LG2s-1TT0ouz"
      }
    },
    {
      "cell_type": "code",
      "source": [
        "# Conjunto de entrenamiento\n",
        "revisar_carpeta(img_train)\n",
        "\n",
        "# Conjunto de valdiación\n",
        "revisar_carpeta(img_vali)\n",
        "\n",
        "# Conjunto de testeo\n",
        "revisar_carpeta(img_test)"
      ],
      "metadata": {
        "colab": {
          "base_uri": "https://localhost:8080/"
        },
        "id": "pQ893wHdFh7p",
        "outputId": "fec879e6-4049-4cde-fa5a-d380ad03bb4d"
      },
      "execution_count": 5,
      "outputs": [
        {
          "output_type": "stream",
          "name": "stdout",
          "text": [
            "\n",
            "Revisando: /content/drive/MyDrive/Capstone/data/pre_procesamiento/segmentadas_sobel/sob_train\n",
            "Clases encontradas: ['NORMAL', 'PNEUMONIA']\n",
            "Total imágenes: 5144\n",
            "Distribución por clase:\n",
            "  - NORMAL: 1269 imágenes\n",
            "  - PNEUMONIA: 3875 imágenes\n",
            "Tamaños detectados (muestra):\n",
            "  - (224, 224): 10 ejemplo(s)\n",
            "\n",
            "Revisando: /content/drive/MyDrive/Capstone/data/pre_procesamiento/segmentadas_sobel/sob_vali\n",
            "Clases encontradas: ['NORMAL', 'PNEUMONIA']\n",
            "Total imágenes: 16\n",
            "Distribución por clase:\n",
            "  - NORMAL: 8 imágenes\n",
            "  - PNEUMONIA: 8 imágenes\n",
            "Tamaños detectados (muestra):\n",
            "  - (224, 224): 10 ejemplo(s)\n",
            "\n",
            "Revisando: /content/drive/MyDrive/Capstone/data/pre_procesamiento/segmentadas_sobel/sob_test\n",
            "Clases encontradas: ['NORMAL', 'PNEUMONIA']\n",
            "Total imágenes: 624\n",
            "Distribución por clase:\n",
            "  - NORMAL: 234 imágenes\n",
            "  - PNEUMONIA: 390 imágenes\n",
            "Tamaños detectados (muestra):\n",
            "  - (224, 224): 10 ejemplo(s)\n"
          ]
        }
      ]
    },
    {
      "cell_type": "markdown",
      "source": [
        "Cargar datasets"
      ],
      "metadata": {
        "id": "2oacBvsf035N"
      }
    },
    {
      "cell_type": "code",
      "execution_count": 6,
      "metadata": {
        "colab": {
          "base_uri": "https://localhost:8080/"
        },
        "outputId": "4e72e854-3028-4986-e3ed-e0f8df3e2891",
        "id": "43NpcDjYJZZn"
      },
      "outputs": [
        {
          "output_type": "stream",
          "name": "stdout",
          "text": [
            "Found 5144 files belonging to 2 classes.\n",
            "Found 624 files belonging to 2 classes.\n",
            "Found 16 files belonging to 2 classes.\n"
          ]
        }
      ],
      "source": [
        "train_ds = tf.keras.preprocessing.image_dataset_from_directory(\n",
        "    img_train, # Entrenamiento\n",
        "    batch_size = 32,\n",
        "    label_mode = 'categorical'\n",
        ")\n",
        "\n",
        "test_ds = tf.keras.preprocessing.image_dataset_from_directory(\n",
        "    img_test, # Testeo\n",
        "    batch_size=32,\n",
        "    label_mode='categorical'\n",
        ")\n",
        "\n",
        "val_ds = tf.keras.preprocessing.image_dataset_from_directory(\n",
        "    img_vali, # Validación\n",
        "    batch_size = 32,\n",
        "    label_mode = 'categorical'\n",
        ")"
      ]
    },
    {
      "cell_type": "markdown",
      "source": [
        "## Procesamiento final de imágenes"
      ],
      "metadata": {
        "id": "3P7sFTc21Bt-"
      }
    },
    {
      "cell_type": "markdown",
      "source": [
        "### Normalización"
      ],
      "metadata": {
        "id": "71UhieSimCeb"
      }
    },
    {
      "cell_type": "code",
      "source": [
        "normalizar = lambda x, y: (tf.cast(x, tf.float32) / 255.0, y)\n",
        "AUTOTUNE = tf.data.AUTOTUNE\n",
        "\n",
        "train_ds = train_ds.map(normalizar).prefetch(AUTOTUNE)\n",
        "val_ds = val_ds.map(normalizar).prefetch(AUTOTUNE)\n",
        "test_ds = test_ds.map(normalizar).prefetch(AUTOTUNE)"
      ],
      "metadata": {
        "id": "Kkw7mz9SmCNT"
      },
      "execution_count": 7,
      "outputs": []
    },
    {
      "cell_type": "markdown",
      "source": [
        "## Aplicación de clusterización para diferenciar la neumonía viral y bacteriana"
      ],
      "metadata": {
        "id": "2iGdUpxogN9n"
      }
    },
    {
      "cell_type": "markdown",
      "source": [
        "### *Flatten* o extracción de características"
      ],
      "metadata": {
        "id": "NX5UQcjNXh4C"
      }
    },
    {
      "cell_type": "code",
      "source": [
        "# Extraer datos del dataset completo\n",
        "class_names = ['NORMAL', 'PNEUMONIA']\n",
        "\n",
        "def dataset_to_numpy(dataset):\n",
        "    images_list = []\n",
        "    labels_list = []\n",
        "    for batch in dataset:\n",
        "        images, labels = batch\n",
        "        images_list.append(images.numpy())\n",
        "        labels_list.append(labels.numpy())\n",
        "    images_np = np.concatenate(images_list, axis=0)\n",
        "    labels_np = np.concatenate(labels_list, axis=0)\n",
        "    return images_np, labels_np\n",
        "\n",
        "# Convertir los datos a vector\n",
        "X_train, y_train = dataset_to_numpy(train_ds)\n",
        "\n",
        "# Identificar índice de la clase \"PNEUMONIA\"\n",
        "print(\"Clases:\", class_names)  # ['NORMAL', 'PNEUMONIA']\n",
        "indice_pneumonia = class_names.index('PNEUMONIA')"
      ],
      "metadata": {
        "id": "JOoXsyIfXk2r",
        "colab": {
          "base_uri": "https://localhost:8080/"
        },
        "outputId": "aae7ddeb-deb1-4ee9-adcc-8fba1b5df3b6"
      },
      "execution_count": 8,
      "outputs": [
        {
          "output_type": "stream",
          "name": "stdout",
          "text": [
            "Clases: ['NORMAL', 'PNEUMONIA']\n"
          ]
        }
      ]
    },
    {
      "cell_type": "markdown",
      "source": [
        "Filtrar solo las imágenes con 'PNEUMONIA'"
      ],
      "metadata": {
        "id": "e_kllefBi7YR"
      }
    },
    {
      "cell_type": "code",
      "source": [
        "mascara_pneumonia = np.argmax(y_train, axis=1) == indice_pneumonia\n",
        "X_pneumonia = X_train[mascara_pneumonia]\n",
        "\n",
        "print(\"Cantidad de imágenes con neumonía:\", X_pneumonia.shape[0])"
      ],
      "metadata": {
        "id": "WpP6-bFQgqVR",
        "outputId": "81c5fc87-a369-493a-8eb8-bfda588f1580",
        "colab": {
          "base_uri": "https://localhost:8080/"
        }
      },
      "execution_count": 9,
      "outputs": [
        {
          "output_type": "stream",
          "name": "stdout",
          "text": [
            "Cantidad de imágenes con neumonía: 3875\n"
          ]
        }
      ]
    },
    {
      "cell_type": "markdown",
      "source": [
        "Flatten"
      ],
      "metadata": {
        "id": "soScBl39i9XR"
      }
    },
    {
      "cell_type": "code",
      "source": [
        "X_pneumonia_flat = X_pneumonia.reshape(X_pneumonia.shape[0], -1)\n",
        "\n",
        "print(\"Forma original:\", X_pneumonia[0].shape)\n",
        "print(\"Forma aplanada:\", X_pneumonia_flat[0].shape)"
      ],
      "metadata": {
        "id": "6QfMQJMRbTg9",
        "outputId": "fa851acf-2ddf-421c-e821-6cd050fa4271",
        "colab": {
          "base_uri": "https://localhost:8080/"
        }
      },
      "execution_count": 10,
      "outputs": [
        {
          "output_type": "stream",
          "name": "stdout",
          "text": [
            "Forma original: (256, 256, 3)\n",
            "Forma aplanada: (196608,)\n"
          ]
        }
      ]
    },
    {
      "cell_type": "markdown",
      "source": [
        "### Reducción de dimensionalidad"
      ],
      "metadata": {
        "id": "JCUHrPL1hBFr"
      }
    },
    {
      "cell_type": "markdown",
      "source": [
        "Iterar cantidad de componententes para dos clústeres (dos tipos de neumonía: viral y bacteriana)"
      ],
      "metadata": {
        "id": "yFoERCgO8X1B"
      }
    },
    {
      "cell_type": "code",
      "source": [
        "sil_aggl, sil_km = {}, {}\n",
        "\n",
        "for n_comp in [5, 10, 15]:\n",
        "    # 1) Reducir dimensionalidad con PCA\n",
        "    pca = PCA(n_components = n_comp, random_state = 42)\n",
        "    X_pca = pca.fit_transform(X_pneumonia_flat) # df\n",
        "\n",
        "    for k in [2]:\n",
        "        # 2) Clustering\n",
        "        agg = AgglomerativeClustering(n_clusters = k, linkage = 'ward')\n",
        "        labels_agg = agg.fit_predict(X_pca)\n",
        "        sil_aggl[(n_comp, k)] = silhouette_score(X_pca, labels_agg)\n",
        "\n",
        "        km = KMeans(n_clusters = k, random_state = 42)\n",
        "        labels_km = km.fit_predict(X_pca)\n",
        "        sil_km[(n_comp, k)] = silhouette_score(X_pca, labels_km)\n",
        "\n",
        "# Mostrar resultados\n",
        "print(\"n_comp k   Silhouette Agglo   Silhouette KMeans\")\n",
        "for (n_comp, k), score in sil_aggl.items():\n",
        "    print(f\"{n_comp:>6} {k:>2}   {score:.4f}             {sil_km[(n_comp,k)]:.4f}\")"
      ],
      "metadata": {
        "colab": {
          "base_uri": "https://localhost:8080/"
        },
        "id": "w6PFCsT1glfb",
        "outputId": "c5bb885a-320b-446c-cc05-5b77f6bcbd7c"
      },
      "execution_count": null,
      "outputs": [
        {
          "output_type": "stream",
          "name": "stdout",
          "text": [
            "n_comp k   Silhouette Agglo   Silhouette KMeans\n",
            "     5  2   0.2073             0.2289\n",
            "    10  2   0.2349             0.1688\n",
            "    15  2   0.1790             0.1502\n"
          ]
        }
      ]
    },
    {
      "cell_type": "code",
      "source": [
        "sil_aggl, sil_km = {}, {}\n",
        "\n",
        "for n_comp in [20, 50, 100]:\n",
        "    # 1) Reducir dimensionalidad con PCA\n",
        "    pca = PCA(n_components = n_comp, random_state = 42)\n",
        "    X_pca = pca.fit_transform(X_pneumonia_flat) # df\n",
        "\n",
        "    for k in [2]:\n",
        "        # 2) Clustering\n",
        "        agg = AgglomerativeClustering(n_clusters = k, linkage = 'ward')\n",
        "        labels_agg = agg.fit_predict(X_pca)\n",
        "        sil_aggl[(n_comp, k)] = silhouette_score(X_pca, labels_agg)\n",
        "\n",
        "        km = KMeans(n_clusters = k, random_state = 42)\n",
        "        labels_km = km.fit_predict(X_pca)\n",
        "        sil_km[(n_comp, k)] = silhouette_score(X_pca, labels_km)\n",
        "\n",
        "# Mostrar resultados\n",
        "print(\"n_comp k   Silhouette Agglo   Silhouette KMeans\")\n",
        "for (n_comp, k), score in sil_aggl.items():\n",
        "    print(f\"{n_comp:>6} {k:>2}   {score:.4f}             {sil_km[(n_comp,k)]:.4f}\")"
      ],
      "metadata": {
        "colab": {
          "base_uri": "https://localhost:8080/"
        },
        "id": "pXZOkHchZ-l0",
        "outputId": "f81c8c6f-8190-4e08-d958-f048882776c3"
      },
      "execution_count": null,
      "outputs": [
        {
          "output_type": "stream",
          "name": "stdout",
          "text": [
            "n_comp k   Silhouette Agglo   Silhouette KMeans\n",
            "    20  2   0.1184             0.1401\n",
            "    50  2   0.0939             0.1181\n",
            "   100  2   0.0777             0.0983\n"
          ]
        }
      ]
    },
    {
      "cell_type": "code",
      "source": [
        "sil_aggl, sil_km = {}, {}\n",
        "\n",
        "for n_comp in [150, 200, 250]:\n",
        "    # 1) Reducir dimensionalidad con PCA\n",
        "    pca = PCA(n_components = n_comp, random_state = 42)\n",
        "    X_pca = pca.fit_transform(X_pneumonia_flat) # df\n",
        "\n",
        "    for k in [2]:\n",
        "        # 2) Clustering\n",
        "        agg = AgglomerativeClustering(n_clusters = k, linkage = 'ward')\n",
        "        labels_agg = agg.fit_predict(X_pca)\n",
        "        sil_aggl[(n_comp, k)] = silhouette_score(X_pca, labels_agg)\n",
        "\n",
        "        km = KMeans(n_clusters = k, random_state = 42)\n",
        "        labels_km = km.fit_predict(X_pca)\n",
        "        sil_km[(n_comp, k)] = silhouette_score(X_pca, labels_km)\n",
        "\n",
        "# Mostrar resultados\n",
        "print(\"n_comp k   Silhouette Agglo   Silhouette KMeans\")\n",
        "for (n_comp, k), score in sil_aggl.items():\n",
        "    print(f\"{n_comp:>6} {k:>2}   {score:.4f}             {sil_km[(n_comp,k)]:.4f}\")"
      ],
      "metadata": {
        "colab": {
          "base_uri": "https://localhost:8080/"
        },
        "id": "4qraBIzbgf2T",
        "outputId": "f49c384d-f566-41e0-99e6-a6c910462889"
      },
      "execution_count": null,
      "outputs": [
        {
          "output_type": "stream",
          "name": "stdout",
          "text": [
            "n_comp k   Silhouette Agglo   Silhouette KMeans\n",
            "   150  2   0.1065             0.0899\n",
            "   200  2   0.0639             0.0840\n",
            "   250  2   0.0616             0.0786\n"
          ]
        }
      ]
    },
    {
      "cell_type": "markdown",
      "source": [
        "Reducir a $n = 5$ dimensiones"
      ],
      "metadata": {
        "id": "0u6VaCFljAIh"
      }
    },
    {
      "cell_type": "code",
      "source": [
        "pca = PCA(n_components = 5, random_state = 42)\n",
        "X_pneumonia_pca = pca.fit_transform(X_pneumonia_flat)\n",
        "\n",
        "print(\"Nueva forma tras PCA:\", X_pneumonia_pca.shape)"
      ],
      "metadata": {
        "id": "MeSNoK-Pbw3A"
      },
      "execution_count": null,
      "outputs": []
    },
    {
      "cell_type": "markdown",
      "source": [
        "Dos clústeres para los tipos de neumonía: viral y bacteriana"
      ],
      "metadata": {
        "id": "K_Yb9EfIjEPq"
      }
    },
    {
      "cell_type": "code",
      "source": [
        "kmeans = KMeans(n_clusters = 2, random_state = 42)\n",
        "clusters = kmeans.fit_predict(X_pneumonia_pca)"
      ],
      "metadata": {
        "id": "c7PwQvq5bxKX"
      },
      "execution_count": null,
      "outputs": []
    },
    {
      "cell_type": "markdown",
      "source": [
        "### Visualizar imágenes por clústeres"
      ],
      "metadata": {
        "id": "WJov2qTlhXNe"
      }
    },
    {
      "cell_type": "code",
      "source": [
        "def mostrar_imagenes_por_cluster(imagenes, cluster_labels, cluster_id, cantidad = 10):\n",
        "    indices = np.where(cluster_labels == cluster_id)[0]\n",
        "    seleccionadas = np.random.choice(indices, min(cantidad, len(indices)), replace = False)\n",
        "\n",
        "    plt.figure(figsize = (15, 6))\n",
        "    for i, idx in enumerate(seleccionadas):\n",
        "        plt.subplot(2, 5, i + 1)\n",
        "        plt.imshow(imagenes[idx])\n",
        "        plt.title(f\"Cluster {cluster_id}\")\n",
        "        plt.axis(\"off\")\n",
        "    plt.tight_layout()\n",
        "    plt.show()\n",
        "\n",
        "# Mostrar imágenes del cluster 0 y 1\n",
        "mostrar_imagenes_por_cluster(X_pneumonia, clusters, cluster_id = 0)\n",
        "mostrar_imagenes_por_cluster(X_pneumonia, clusters, cluster_id = 1)"
      ],
      "metadata": {
        "id": "IhQPPM4ebyTw"
      },
      "execution_count": null,
      "outputs": []
    },
    {
      "cell_type": "markdown",
      "source": [
        "Visualizar clústeres por TSNE"
      ],
      "metadata": {
        "id": "WS8kFhWmhp1w"
      }
    },
    {
      "cell_type": "code",
      "source": [
        "tsne = TSNE(n_components = 2, random_state = 42, perplexity = 30)\n",
        "X_pneumonia_2D = tsne.fit_transform(X_pneumonia_pca)\n",
        "\n",
        "plt.figure(figsize = (10, 6))\n",
        "plt.scatter(X_pneumonia_2D[:, 0], X_pneumonia_2D[:, 1], c = clusters, cmap='viridis', alpha = 0.6)\n",
        "plt.title(\"Visualización t-SNE de imágenes de neumonía agrupadas por K-Means\")\n",
        "plt.xlabel(\"Componente 1\")\n",
        "plt.ylabel(\"Componente 2\")\n",
        "plt.grid(True)\n",
        "plt.show()"
      ],
      "metadata": {
        "id": "7xw4dEVnbzf4"
      },
      "execution_count": null,
      "outputs": []
    },
    {
      "cell_type": "markdown",
      "source": [
        "### Coeficiente de Siluetta"
      ],
      "metadata": {
        "id": "UTAtdeVTh4U6"
      }
    },
    {
      "cell_type": "code",
      "source": [
        "# Coeficiente de silueta promedio\n",
        "silhouette_avg = silhouette_score(X_pneumonia_pca, clusters)\n",
        "print(f\"Coeficiente de Silueta Promedio: {silhouette_avg:.4f}\")\n",
        "\n",
        "# Coeficientes individuales de silueta\n",
        "silhouette_vals = silhouette_samples(X_pneumonia_pca, clusters)\n",
        "\n",
        "# Df para inspección\n",
        "df_sil = pd.DataFrame({\n",
        "    \"Silhouette\": silhouette_vals,\n",
        "    \"Cluster\": clusters\n",
        "})\n",
        "\n",
        "## Histograma\n",
        "plt.figure(figsize = (12, 8))\n",
        "cluster_ids = np.unique(clusters)\n",
        "data_by_cluster = [df_sil[df_sil[\"Cluster\"] == cid][\"Silhouette\"].values\n",
        "                   for cid in cluster_ids]\n",
        "\n",
        "plt.hist(\n",
        "    data_by_cluster,\n",
        "    bins = 30,\n",
        "    stacked = True,\n",
        "    label=[f\"Cluster {cid}\" for cid in cluster_ids],\n",
        "    alpha = 0.7,\n",
        "    edgecolor = 'black'\n",
        ")\n",
        "\n",
        "plt.title(\"Distribución del Coeficiente de Silueta por Clúster\")\n",
        "plt.xlabel(\"Coeficiente de Silueta\")\n",
        "plt.ylabel(\"Frecuencia\")\n",
        "plt.legend(title = \"Clúster\")\n",
        "plt.grid(axis = 'y', linestyle = '--', alpha = 0.5)\n",
        "plt.tight_layout()\n",
        "plt.show()"
      ],
      "metadata": {
        "id": "zFq8hUZbEQ13"
      },
      "execution_count": null,
      "outputs": []
    },
    {
      "cell_type": "markdown",
      "source": [
        "### Evaluación de clústers"
      ],
      "metadata": {
        "id": "ugVMQrBtEpbs"
      }
    },
    {
      "cell_type": "code",
      "source": [
        "from sklearn.metrics import davies_bouldin_score\n",
        "db_score = davies_bouldin_score(X_pneumonia_pca, clusters)\n",
        "print(f\"Davies-Bouldin Score: {db_score:.4f}\")"
      ],
      "metadata": {
        "id": "XmhYTJrPEqRs"
      },
      "execution_count": null,
      "outputs": []
    },
    {
      "cell_type": "code",
      "source": [
        "from sklearn.metrics import calinski_harabasz_score\n",
        "ch_score = calinski_harabasz_score(X_pneumonia_pca, clusters)\n",
        "print(f\"Calinski-Harabasz Score: {ch_score:.4f}\")"
      ],
      "metadata": {
        "id": "vNatsz8MEubF"
      },
      "execution_count": null,
      "outputs": []
    },
    {
      "cell_type": "markdown",
      "source": [
        "### Cantidad de imágenes por clúster"
      ],
      "metadata": {
        "id": "IvcIHZOnElRc"
      }
    },
    {
      "cell_type": "code",
      "source": [
        "# Recuentos ordenada por índice de clúster\n",
        "cluster_counts = df_pca['Cluster'].value_counts().sort_index()\n",
        "counts_df = cluster_counts.reset_index()\n",
        "counts_df.columns = ['Cluster', 'Cant. Imágenes']; counts_df"
      ],
      "metadata": {
        "id": "wkoOIYRkEYan",
        "outputId": "b2da3baf-065d-42b5-eda7-7d1043a820d2",
        "colab": {
          "base_uri": "https://localhost:8080/"
        }
      },
      "execution_count": null,
      "outputs": [
        {
          "output_type": "stream",
          "name": "stdout",
          "text": [
            "   Cluster  Recuento\n",
            "0        0      1741\n",
            "1        1      2134\n"
          ]
        }
      ]
    },
    {
      "cell_type": "markdown",
      "source": [
        "Visualizar con imágenes de la clase 'NORMAL'"
      ],
      "metadata": {
        "id": "qSjlldESKK0v"
      }
    },
    {
      "cell_type": "code",
      "source": [
        "# Recuento de normales\n",
        "idx_normal = class_names.index('NORMAL')\n",
        "normal_count = np.sum(np.argmax(y_train, axis = 1) == idx_normal)\n",
        "\n",
        "# Partir del DataFrame de clústeres original\n",
        "counts_df_plot = counts_df.copy()\n",
        "counts_df_plot['Cluster'] = counts_df_plot['Cluster'].astype(str)\n",
        "\n",
        "# DataFrame con la fila NORMAL y concatenar\n",
        "normal_row = pd.DataFrame({\n",
        "    'Cluster': ['NORMAL'],\n",
        "    'Recuento': [normal_count]\n",
        "})\n",
        "\n",
        "counts_df_plot = pd.concat([counts_df_plot, normal_row], ignore_index=True)\n",
        "\n",
        "# Visualizar\n",
        "plt.figure(figsize = (8,5))\n",
        "plt.bar(\n",
        "    counts_df_plot['Cluster'],\n",
        "    counts_df_plot['Recuento'],\n",
        "    edgecolor = 'black'\n",
        ")\n",
        "plt.title(\"Número de imágenes por categoría\")\n",
        "plt.xlabel(\"Categoría\")\n",
        "plt.ylabel(\"Recuento\")\n",
        "plt.grid(axis = 'y', linestyle = '--', alpha = 0.5)\n",
        "plt.tight_layout()\n",
        "plt.show()"
      ],
      "metadata": {
        "id": "DIOIr_NvHFQD",
        "outputId": "549e8242-6785-49d9-a2cb-09eb96e03183",
        "colab": {
          "base_uri": "https://localhost:8080/",
          "height": 507
        }
      },
      "execution_count": null,
      "outputs": [
        {
          "output_type": "display_data",
          "data": {
            "text/plain": [
              "<Figure size 800x500 with 1 Axes>"
            ],
            "image/png": "[encoded data removed]"
          },
          "metadata": {}
        }
      ]
    }
  ]
}