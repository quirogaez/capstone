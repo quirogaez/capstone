{
  "nbformat": 4,
  "nbformat_minor": 0,
  "metadata": {
    "colab": {
      "provenance": [],
      "authorship_tag": "ABX9TyNxW6JbePSOqlCDPZSn9Jzn",
      "include_colab_link": true
    },
    "kernelspec": {
      "name": "python3",
      "display_name": "Python 3"
    },
    "language_info": {
      "name": "python"
    }
  },
  "cells": [
    {
      "cell_type": "markdown",
      "metadata": {
        "id": "view-in-github",
        "colab_type": "text"
      },
      "source": [
        "<a href=\"https://colab.research.google.com/github/quirogaez/capstone/blob/main/notebooks/03_EDA.ipynb\" target=\"_parent\"><img src=\"https://colab.research.google.com/assets/colab-badge.svg\" alt=\"Open In Colab\"/></a>"
      ]
    },
    {
      "cell_type": "markdown",
      "source": [
        "# **03_EDA – Procesamiento Final de Imágenes: Balanceo de Clases**"
      ],
      "metadata": {
        "id": "P_D_ttioyRxe"
      }
    },
    {
      "cell_type": "markdown",
      "source": [
        "## Importación y cargue de imágenes"
      ],
      "metadata": {
        "id": "MrXR1El1W0Su"
      }
    },
    {
      "cell_type": "markdown",
      "source": [
        "Importar librerías"
      ],
      "metadata": {
        "id": "lZieH3eujJtC"
      }
    },
    {
      "cell_type": "code",
      "execution_count": 9,
      "metadata": {
        "id": "bdeec71b"
      },
      "outputs": [],
      "source": [
        "import os\n",
        "import cv2\n",
        "import glob\n",
        "import random\n",
        "import shutil\n",
        "import numpy as np\n",
        "import pandas as pd\n",
        "import seaborn as sns\n",
        "import matplotlib.pyplot as plt\n",
        "\n",
        "import tensorflow as tf\n",
        "from collections import Counter"
      ]
    },
    {
      "cell_type": "code",
      "source": [
        "from google.colab import drive\n",
        "drive.mount('/content/drive')"
      ],
      "metadata": {
        "id": "_DhD0ZDpQwoT",
        "outputId": "a83c689d-67de-4231-f35d-7e7d79c71103",
        "colab": {
          "base_uri": "https://localhost:8080/"
        }
      },
      "execution_count": 10,
      "outputs": [
        {
          "output_type": "stream",
          "name": "stdout",
          "text": [
            "Drive already mounted at /content/drive; to attempt to forcibly remount, call drive.mount(\"/content/drive\", force_remount=True).\n"
          ]
        }
      ]
    },
    {
      "cell_type": "markdown",
      "source": [
        "### Llamar los archivos"
      ],
      "metadata": {
        "id": "yZpE2CDQXDfg"
      }
    },
    {
      "cell_type": "code",
      "source": [
        "# Cargar imágenes\n",
        "img_train = '/content/drive/MyDrive/Capstone/data/multiclass/train'\n",
        "# img_vali = '/content/drive/MyDrive/Capstone/data/multiclass/val'\n",
        "# img_test = '/content/drive/MyDrive/Capstone/data/multiclass/test'\n",
        "\n",
        "# Ver archivos en la carpeta\n",
        "df_train = os.listdir(img_train)\n",
        "# df_vali = os.listdir(img_vali)\n",
        "# df_test = os.listdir(img_test)"
      ],
      "metadata": {
        "id": "SI6EUYnRSXhK"
      },
      "execution_count": 11,
      "outputs": []
    },
    {
      "cell_type": "markdown",
      "source": [
        "Cargar datasets"
      ],
      "metadata": {
        "id": "RMTx-xO_-Rx2"
      }
    },
    {
      "cell_type": "code",
      "source": [
        "train_ds = tf.keras.preprocessing.image_dataset_from_directory(\n",
        "    img_train, # Entrenamiento\n",
        "    batch_size = 32,\n",
        "    label_mode = 'categorical'\n",
        ")\n",
        "class_names = train_ds.class_names\n",
        "\n",
        "# test_ds = tf.keras.preprocessing.image_dataset_from_directory(\n",
        "#     img_test, # Testeo\n",
        "#     batch_size = 32,\n",
        "#     label_mode = 'categorical'\n",
        "# )\n",
        "\n",
        "# val_ds = tf.keras.preprocessing.image_dataset_from_directory(\n",
        "#     img_vali, # Validación\n",
        "#     batch_size = 32,\n",
        "#     label_mode = 'categorical'\n",
        "# )"
      ],
      "metadata": {
        "colab": {
          "base_uri": "https://localhost:8080/"
        },
        "id": "Z2iKsxj0-RRm",
        "outputId": "962155a6-5bf5-4b13-9282-3d2672ff768a"
      },
      "execution_count": 12,
      "outputs": [
        {
          "output_type": "stream",
          "name": "stdout",
          "text": [
            "Found 5638 files belonging to 3 classes.\n"
          ]
        }
      ]
    },
    {
      "cell_type": "markdown",
      "source": [
        "## *Oversampling*"
      ],
      "metadata": {
        "id": "Dc1bymjcn-En"
      }
    },
    {
      "cell_type": "markdown",
      "source": [
        "*Oversampling* de la clase minoritaria (`NORMAL`) para igualarla a la cantidad de imágenes de la clase intermedia (`PNEUMONIA-VIRAL`).\n"
      ],
      "metadata": {
        "id": "Sy5lcPJvoBOn"
      }
    },
    {
      "cell_type": "markdown",
      "source": [
        "Calcular cuántas imágenes se deben generar"
      ],
      "metadata": {
        "id": "QqZGQOGJoKkJ"
      }
    },
    {
      "cell_type": "code",
      "source": [
        "target_size = len(viral_imgs)\n",
        "current_size = len(normal_imgs)\n",
        "images_to_generate = target_size - current_size\n",
        "\n",
        "print(f\"Se necesita generar {images_to_generate} imágenes nuevas para NORMAL.\")"
      ],
      "metadata": {
        "colab": {
          "base_uri": "https://localhost:8080/"
        },
        "id": "WCvVx7_coJao",
        "outputId": "a30c3ae1-d90b-446d-c503-d828a80679be"
      },
      "execution_count": 13,
      "outputs": [
        {
          "output_type": "stream",
          "name": "stdout",
          "text": [
            "Se necesita generar 0 imágenes nuevas para NORMAL.\n"
          ]
        }
      ]
    },
    {
      "cell_type": "markdown",
      "source": [
        "Configurar *Data Augmentation*"
      ],
      "metadata": {
        "id": "DfVwG7cioRgh"
      }
    },
    {
      "cell_type": "code",
      "source": [
        "# Librerías necesarias\n",
        "from tensorflow.keras.preprocessing.image import ImageDataGenerator, load_img, img_to_array, array_to_img\n",
        "import shutil"
      ],
      "metadata": {
        "id": "2SGY3b_joMFB"
      },
      "execution_count": 14,
      "outputs": []
    },
    {
      "cell_type": "code",
      "source": [
        "# Directorio temporal para guardar las imágenes aumentadas\n",
        "augmented_dir = '/content/drive/MyDrive/Capstone/data/multiclass/train/NORMAL_augmented'\n",
        "os.makedirs(augmented_dir, exist_ok = True)"
      ],
      "metadata": {
        "id": "MmDJTpbhoW_R"
      },
      "execution_count": 15,
      "outputs": []
    },
    {
      "cell_type": "code",
      "source": [
        "# Configurar el generador de imágenes con augmentations variados\n",
        "datagen = ImageDataGenerator(\n",
        "    rotation_range = 20,\n",
        "    width_shift_range = 0.10,\n",
        "    height_shift_range = 0.10,\n",
        "    shear_range = 0.10,\n",
        "    zoom_range = 0.10,\n",
        "    horizontal_flip = True,\n",
        "    fill_mode = 'nearest'\n",
        ")"
      ],
      "metadata": {
        "id": "mDPK8gDZocii"
      },
      "execution_count": 16,
      "outputs": []
    },
    {
      "cell_type": "markdown",
      "source": [
        "Generar imágenes aumentadas"
      ],
      "metadata": {
        "id": "9_rw1GUYoiMS"
      }
    },
    {
      "cell_type": "code",
      "source": [
        "generated_count = 0\n",
        "\n",
        "for img_path in normal_imgs:\n",
        "    if generated_count >= images_to_generate:\n",
        "        break\n",
        "\n",
        "    # Cargar imagen y convertir a array\n",
        "    img = load_img(img_path)\n",
        "    x = img_to_array(img)\n",
        "    x = x.reshape((1,) + x.shape)\n",
        "\n",
        "    # Crear iterador de augmentations\n",
        "    aug_iter = datagen.flow(x, batch_size = 1)\n",
        "\n",
        "    # Generar una imagen por cada iteración\n",
        "    for _ in range(1):  # Solo 1 augmentación por imagen original\n",
        "        aug_img = next(aug_iter)[0].astype('uint8')\n",
        "        aug_img_pil = array_to_img(aug_img)\n",
        "\n",
        "        # Guardar imagen aumentada\n",
        "        save_path = os.path.join(augmented_dir, f'aug_{generated_count}.jpg')\n",
        "        aug_img_pil.save(save_path)\n",
        "\n",
        "        generated_count += 1\n",
        "\n",
        "        if generated_count >= images_to_generate:\n",
        "            break\n",
        "\n",
        "print(f\"Imágenes aumentadas generadas: {generated_count}\")"
      ],
      "metadata": {
        "colab": {
          "base_uri": "https://localhost:8080/"
        },
        "id": "qEntatzjojga",
        "outputId": "c07138b7-2078-4c6f-bd40-4f014e3c039a"
      },
      "execution_count": 17,
      "outputs": [
        {
          "output_type": "stream",
          "name": "stdout",
          "text": [
            "Imágenes aumentadas generadas: 0\n"
          ]
        }
      ]
    },
    {
      "cell_type": "markdown",
      "source": [
        "Mover las imágenes aumentadas a la carpeta de `NORMAL` para el cargue\n",
        "\n"
      ],
      "metadata": {
        "id": "ABhEU2lbpH0v"
      }
    },
    {
      "cell_type": "code",
      "source": [
        "# Ruta actual de las imágenes aumentadas\n",
        "augmented_dir = '/content/drive/MyDrive/Capstone/data/multiclass/train/NORMAL_augmented'\n",
        "\n",
        "# Ruta destino: carpeta de la clase NORMAL\n",
        "normal_dir = '/content/drive/MyDrive/Capstone/data/multiclass/train/NORMAL'\n",
        "\n",
        "# Mover todas las imágenes aumentadas a la carpeta NORMAL\n",
        "augmented_images = os.listdir(augmented_dir)\n",
        "\n",
        "for img_file in augmented_images:\n",
        "    src_path = os.path.join(augmented_dir, img_file)\n",
        "    dest_path = os.path.join(normal_dir, img_file)\n",
        "    shutil.move(src_path, dest_path)\n",
        "\n",
        "# Eliminar la carpeta vacía NORMAL_augmented\n",
        "shutil.rmtree(augmented_dir)"
      ],
      "metadata": {
        "id": "6jQP6Y0vpM5E"
      },
      "execution_count": 18,
      "outputs": []
    },
    {
      "cell_type": "markdown",
      "source": [
        "Recargar el dataset las imágenes aumentadas"
      ],
      "metadata": {
        "id": "wqe1V0UepSrI"
      }
    },
    {
      "cell_type": "code",
      "source": [
        "train_ds = tf.keras.preprocessing.image_dataset_from_directory(\n",
        "    img_train,  # Carpeta raíz de entrenamiento\n",
        "    batch_size=32,\n",
        "    label_mode='categorical'\n",
        ")\n",
        "class_names = train_ds.class_names; class_names"
      ],
      "metadata": {
        "colab": {
          "base_uri": "https://localhost:8080/"
        },
        "id": "v_Haxe39pPgQ",
        "outputId": "bb476dba-40f5-4a80-a040-02d8f1e43959"
      },
      "execution_count": 19,
      "outputs": [
        {
          "output_type": "stream",
          "name": "stdout",
          "text": [
            "Found 5638 files belonging to 3 classes.\n"
          ]
        },
        {
          "output_type": "execute_result",
          "data": {
            "text/plain": [
              "['NORMAL', 'PNEUMONIA-BACTERIAL', 'PNEUMONIA-VIRAL']"
            ]
          },
          "metadata": {},
          "execution_count": 19
        }
      ]
    },
    {
      "cell_type": "code",
      "source": [
        "# Crear etiquetas a partir del dataset cargado\n",
        "labels = []\n",
        "\n",
        "for _, label in train_ds.unbatch():\n",
        "    labels.append(tf.argmax(label).numpy())\n",
        "\n",
        "# Contar las categorías\n",
        "label_counts = Counter(labels)\n",
        "\n",
        "# Convertir a DataFrame\n",
        "counts_df_plot = pd.DataFrame({\n",
        "    'Categoría': [class_names[idx] for idx in label_counts.keys()],\n",
        "    'Recuento': list(label_counts.values())\n",
        "})\n",
        "\n",
        "# Visualización con el mismo estilo\n",
        "plt.figure(figsize = (8, 5))\n",
        "plt.bar(\n",
        "    counts_df_plot['Categoría'],\n",
        "    counts_df_plot['Recuento'],\n",
        "    edgecolor = 'black'\n",
        ")\n",
        "plt.title(\"Número de imágenes por categoría después de Oversampling\")\n",
        "plt.xlabel(\"Categoría\")\n",
        "plt.ylabel(\"Recuento\")\n",
        "plt.grid(axis = 'y', linestyle = '--', alpha = 0.5)\n",
        "plt.tight_layout()\n",
        "plt.show()"
      ],
      "metadata": {
        "colab": {
          "base_uri": "https://localhost:8080/",
          "height": 507
        },
        "id": "TQ7HjE1op4Tj",
        "outputId": "930ec9cc-b298-4ab7-e620-064f366ab17d"
      },
      "execution_count": 20,
      "outputs": [
        {
          "output_type": "display_data",
          "data": {
            "text/plain": [
              "<Figure size 800x500 with 1 Axes>"
            ],
            "image/png": "[encoded data removed]"
          },
          "metadata": {}
        }
      ]
    },
    {
      "cell_type": "markdown",
      "source": [
        "## *Undersampling*\n"
      ],
      "metadata": {
        "id": "f0m5ZQWckz1Z"
      }
    },
    {
      "cell_type": "markdown",
      "source": [
        "*Undersampling* de la clase mayoritaria (`PNEUMONIA-BACTERIAL`) para igualarla a la cantidad de imágenes de la clase intermedia (`PNEUMONIA-VIRAL`).\n"
      ],
      "metadata": {
        "id": "iD0V-LzJlGiz"
      }
    },
    {
      "cell_type": "markdown",
      "source": [
        "Crear DataFrame con las rutas de las imágenes"
      ],
      "metadata": {
        "id": "b4KPv3nSlXA9"
      }
    },
    {
      "cell_type": "code",
      "source": [
        "# Crear listas de rutas por clase\n",
        "bacterial_path = os.path.join(img_train, 'PNEUMONIA-BACTERIAL', '*')\n",
        "viral_path = os.path.join(img_train, 'PNEUMONIA-VIRAL', '*')\n",
        "normal_path = os.path.join(img_train, 'NORMAL', '*')\n",
        "\n",
        "bacterial_imgs = glob.glob(bacterial_path)\n",
        "viral_imgs = glob.glob(viral_path)\n",
        "normal_imgs = glob.glob(normal_path)\n",
        "\n",
        "print(f'Bacterial: {len(bacterial_imgs)}')\n",
        "print(f'Viral: {len(viral_imgs)}')\n",
        "print(f'Normal: {len(normal_imgs)}')"
      ],
      "metadata": {
        "colab": {
          "base_uri": "https://localhost:8080/"
        },
        "id": "qkzbLWjTlGEj",
        "outputId": "643d3e40-1736-4fce-c55f-e8078a66106b"
      },
      "execution_count": 21,
      "outputs": [
        {
          "output_type": "stream",
          "name": "stdout",
          "text": [
            "Bacterial: 2110\n",
            "Viral: 1764\n",
            "Normal: 1764\n"
          ]
        }
      ]
    },
    {
      "cell_type": "markdown",
      "source": [
        "Hacer Undersampling de la clase mayoritaria"
      ],
      "metadata": {
        "id": "b8JBju72lZ1V"
      }
    },
    {
      "cell_type": "code",
      "source": [
        "# Establecer el tamaño objetivo\n",
        "target_size = len(viral_imgs)\n",
        "\n",
        "# Hacer undersampling aleatorio\n",
        "bacterial_imgs_sampled = random.sample(bacterial_imgs, target_size)\n",
        "\n",
        "# Confirmar\n",
        "print(f'Bacterial después de undersampling: {len(bacterial_imgs_sampled)}')"
      ],
      "metadata": {
        "colab": {
          "base_uri": "https://localhost:8080/"
        },
        "id": "rkCVMYe-lamO",
        "outputId": "79eccfc1-f9d3-495e-9a9a-7a5e2f4863a2"
      },
      "execution_count": 22,
      "outputs": [
        {
          "output_type": "stream",
          "name": "stdout",
          "text": [
            "Bacterial después de undersampling: 1764\n"
          ]
        }
      ]
    },
    {
      "cell_type": "markdown",
      "source": [
        "Crear un dataset balanceado"
      ],
      "metadata": {
        "id": "MmAvLlGFlgLG"
      }
    },
    {
      "cell_type": "code",
      "source": [
        "# Crear lista total de imágenes balanceadas\n",
        "balanced_image_paths = bacterial_imgs_sampled + viral_imgs + normal_imgs\n",
        "\n",
        "# Mezclar aleatoriamente\n",
        "random.shuffle(balanced_image_paths)\n",
        "\n",
        "print(f'Total de imágenes balanceadas: {len(balanced_image_paths)}')"
      ],
      "metadata": {
        "colab": {
          "base_uri": "https://localhost:8080/"
        },
        "id": "yLbWG6OXlg2v",
        "outputId": "f7db878a-f9b5-4b08-c18d-26a5c6775233"
      },
      "execution_count": 23,
      "outputs": [
        {
          "output_type": "stream",
          "name": "stdout",
          "text": [
            "Total de imágenes balanceadas: 5292\n"
          ]
        }
      ]
    },
    {
      "cell_type": "markdown",
      "source": [
        "Visualizar la nueva distribución"
      ],
      "metadata": {
        "id": "Vl7CCPxWljcO"
      }
    },
    {
      "cell_type": "code",
      "source": [
        "# Crear etiquetas a partir de las rutas\n",
        "labels = []\n",
        "for path in balanced_image_paths:\n",
        "    if 'PNEUMONIA-BACTERIAL' in path:\n",
        "        labels.append('PNEUMONIA-BACTERIAL')\n",
        "    elif 'PNEUMONIA-VIRAL' in path:\n",
        "        labels.append('PNEUMONIA-VIRAL')\n",
        "    else:\n",
        "        labels.append('NORMAL')\n",
        "\n",
        "# Contar las categorías\n",
        "label_counts = Counter(labels)\n",
        "\n",
        "# Convertir a DataFrame\n",
        "counts_df_plot = pd.DataFrame({\n",
        "    'Categoría': list(label_counts.keys()),\n",
        "    'Recuento': list(label_counts.values())\n",
        "})\n",
        "\n",
        "# Visualización\n",
        "plt.figure(figsize = (8, 5))\n",
        "plt.bar(\n",
        "    counts_df_plot['Categoría'],\n",
        "    counts_df_plot['Recuento'],\n",
        "    edgecolor = 'black'\n",
        ")\n",
        "plt.title(\"Número de imágenes por categoría después de Undersampling\")\n",
        "plt.xlabel(\"Categoría\")\n",
        "plt.ylabel(\"Recuento\")\n",
        "plt.grid(axis = 'y', linestyle = '--', alpha = 0.5)\n",
        "plt.tight_layout()\n",
        "plt.show()"
      ],
      "metadata": {
        "colab": {
          "base_uri": "https://localhost:8080/",
          "height": 507
        },
        "id": "2Pv1N1aPlkNn",
        "outputId": "c0bfe934-cd45-42e1-b310-9d853633ecf7"
      },
      "execution_count": 24,
      "outputs": [
        {
          "output_type": "display_data",
          "data": {
            "text/plain": [
              "<Figure size 800x500 with 1 Axes>"
            ],
            "image/png": "[encoded data removed]"
          },
          "metadata": {}
        }
      ]
    },
    {
      "cell_type": "markdown",
      "source": [
        "Eliminar las imágenes descartadas en el `urdersampling`"
      ],
      "metadata": {
        "id": "RrHMHW4E4mFq"
      }
    },
    {
      "cell_type": "code",
      "source": [
        "# Calcular las imágenes que no quedaron en el undersampling\n",
        "bacterial_imgs_to_delete = list(set(bacterial_imgs) - set(bacterial_imgs_sampled))\n",
        "\n",
        "print(f\"Cantidad de imágenes que se van a eliminar: {len(bacterial_imgs_to_delete)}\")"
      ],
      "metadata": {
        "id": "KrDBb1wV4raT",
        "outputId": "9c9d813b-3401-4429-8e35-c37817b41fea",
        "colab": {
          "base_uri": "https://localhost:8080/"
        }
      },
      "execution_count": 25,
      "outputs": [
        {
          "output_type": "stream",
          "name": "stdout",
          "text": [
            "Cantidad de imágenes que se van a eliminar: 346\n"
          ]
        }
      ]
    },
    {
      "cell_type": "code",
      "source": [
        "# Eliminar las imágenes descartadas\n",
        "for img_path in bacterial_imgs_to_delete:\n",
        "    os.remove(img_path)"
      ],
      "metadata": {
        "id": "M5bFDvBR4uKj"
      },
      "execution_count": 26,
      "outputs": []
    },
    {
      "cell_type": "code",
      "source": [
        "# Recargar el dataset balanceado directamente desde la carpeta original\n",
        "train_ds = tf.keras.preprocessing.image_dataset_from_directory(\n",
        "    img_train,\n",
        "    batch_size = 32,\n",
        "    label_mode = 'categorical'\n",
        ")\n",
        "\n",
        "class_names = train_ds.class_names; class_names"
      ],
      "metadata": {
        "id": "fEw9PyHu4wdz",
        "outputId": "1706d015-bf46-4b51-be31-7eba22ac28bd",
        "colab": {
          "base_uri": "https://localhost:8080/"
        }
      },
      "execution_count": 27,
      "outputs": [
        {
          "output_type": "stream",
          "name": "stdout",
          "text": [
            "Found 5292 files belonging to 3 classes.\n"
          ]
        },
        {
          "output_type": "execute_result",
          "data": {
            "text/plain": [
              "['NORMAL', 'PNEUMONIA-BACTERIAL', 'PNEUMONIA-VIRAL']"
            ]
          },
          "metadata": {},
          "execution_count": 27
        }
      ]
    },
    {
      "cell_type": "code",
      "source": [
        "labels = []\n",
        "\n",
        "for _, label in train_ds.unbatch():\n",
        "    labels.append(tf.argmax(label).numpy())\n",
        "\n",
        "label_counts = Counter(labels)\n",
        "\n",
        "counts_df_plot = pd.DataFrame({\n",
        "    'Categoría': [class_names[idx] for idx in label_counts.keys()],\n",
        "    'Recuento': list(label_counts.values())\n",
        "})\n",
        "\n",
        "plt.figure(figsize=(8, 5))\n",
        "plt.bar(\n",
        "    counts_df_plot['Categoría'],\n",
        "    counts_df_plot['Recuento'],\n",
        "    edgecolor = 'black'\n",
        ")\n",
        "plt.title(\"Número de imágenes por categoría después de Undersampling y Oversampling\")\n",
        "plt.xlabel(\"Categoría\")\n",
        "plt.ylabel(\"Recuento\")\n",
        "plt.grid(axis = 'y', linestyle = '--', alpha = 0.5)\n",
        "plt.tight_layout()\n",
        "plt.show()"
      ],
      "metadata": {
        "id": "ok9NKKM84za7",
        "outputId": "2a62a7ad-f201-4c45-f018-a7286c5f119c",
        "colab": {
          "base_uri": "https://localhost:8080/",
          "height": 507
        }
      },
      "execution_count": 28,
      "outputs": [
        {
          "output_type": "display_data",
          "data": {
            "text/plain": [
              "<Figure size 800x500 with 1 Axes>"
            ],
            "image/png": "[encoded data removed]"
          },
          "metadata": {}
        }
      ]
    }
  ]
}