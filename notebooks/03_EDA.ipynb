{
  "nbformat": 4,
  "nbformat_minor": 0,
  "metadata": {
    "colab": {
      "provenance": [],
      "authorship_tag": "ABX9TyN5sTve6b8uSciYqA2DmCoH",
      "include_colab_link": true
    },
    "kernelspec": {
      "name": "python3",
      "display_name": "Python 3"
    },
    "language_info": {
      "name": "python"
    }
  },
  "cells": [
    {
      "cell_type": "markdown",
      "metadata": {
        "id": "view-in-github",
        "colab_type": "text"
      },
      "source": [
        "<a href=\"https://colab.research.google.com/github/quirogaez/capstone/blob/main/notebooks/03_EDA.ipynb\" target=\"_parent\"><img src=\"https://colab.research.google.com/assets/colab-badge.svg\" alt=\"Open In Colab\"/></a>"
      ]
    },
    {
      "cell_type": "markdown",
      "source": [
        "# **03_EDA – Procesamiento Final de Imágenes: Balanceo de Clases**"
      ],
      "metadata": {
        "id": "P_D_ttioyRxe"
      }
    },
    {
      "cell_type": "markdown",
      "source": [
        "## Importación y cargue de imágenes"
      ],
      "metadata": {
        "id": "MrXR1El1W0Su"
      }
    },
    {
      "cell_type": "markdown",
      "source": [
        "Importar librerías"
      ],
      "metadata": {
        "id": "lZieH3eujJtC"
      }
    },
    {
      "cell_type": "code",
      "execution_count": 6,
      "metadata": {
        "id": "bdeec71b"
      },
      "outputs": [],
      "source": [
        "import os\n",
        "import cv2\n",
        "import random\n",
        "import numpy as np\n",
        "import pandas as pd\n",
        "import seaborn as sns\n",
        "import matplotlib.pyplot as plt\n",
        "\n",
        "import tensorflow as tf\n",
        "from collections import Counter"
      ]
    },
    {
      "cell_type": "code",
      "source": [
        "from google.colab import drive\n",
        "drive.mount('/content/drive')"
      ],
      "metadata": {
        "id": "_DhD0ZDpQwoT",
        "outputId": "a7400a11-d246-4fa5-ea5c-fa4198fea5d7",
        "colab": {
          "base_uri": "https://localhost:8080/"
        }
      },
      "execution_count": 2,
      "outputs": [
        {
          "output_type": "stream",
          "name": "stdout",
          "text": [
            "Mounted at /content/drive\n"
          ]
        }
      ]
    },
    {
      "cell_type": "markdown",
      "source": [
        "### Llamar los archivos"
      ],
      "metadata": {
        "id": "yZpE2CDQXDfg"
      }
    },
    {
      "cell_type": "code",
      "source": [
        "# Cargar imágenes\n",
        "img_train = '/content/drive/MyDrive/Capstone/data/multiclass/train'\n",
        "# img_vali = '/content/drive/MyDrive/Capstone/data/multiclass/val'\n",
        "# img_test = '/content/drive/MyDrive/Capstone/data/multiclass/test'\n",
        "\n",
        "# Ver archivos en la carpeta\n",
        "df_train = os.listdir(img_train)\n",
        "# df_vali = os.listdir(img_vali)\n",
        "# df_test = os.listdir(img_test)"
      ],
      "metadata": {
        "id": "SI6EUYnRSXhK"
      },
      "execution_count": 3,
      "outputs": []
    },
    {
      "cell_type": "markdown",
      "source": [
        "Cargar datasets"
      ],
      "metadata": {
        "id": "RMTx-xO_-Rx2"
      }
    },
    {
      "cell_type": "code",
      "source": [
        "train_ds = tf.keras.preprocessing.image_dataset_from_directory(\n",
        "    img_train, # Entrenamiento\n",
        "    batch_size = 32,\n",
        "    label_mode = 'categorical'\n",
        ")\n",
        "class_names = train_ds.class_names\n",
        "\n",
        "# test_ds = tf.keras.preprocessing.image_dataset_from_directory(\n",
        "#     img_test, # Testeo\n",
        "#     batch_size = 32,\n",
        "#     label_mode = 'categorical'\n",
        "# )\n",
        "\n",
        "# val_ds = tf.keras.preprocessing.image_dataset_from_directory(\n",
        "#     img_vali, # Validación\n",
        "#     batch_size = 32,\n",
        "#     label_mode = 'categorical'\n",
        "# )"
      ],
      "metadata": {
        "colab": {
          "base_uri": "https://localhost:8080/"
        },
        "id": "Z2iKsxj0-RRm",
        "outputId": "da15447d-bcb1-4b0a-dabf-bd060780732f"
      },
      "execution_count": 11,
      "outputs": [
        {
          "output_type": "stream",
          "name": "stdout",
          "text": [
            "Found 5143 files belonging to 3 classes.\n"
          ]
        }
      ]
    },
    {
      "cell_type": "markdown",
      "source": [
        "Contar la cantidad de imágenes por clase"
      ],
      "metadata": {
        "id": "C-krBYV-AMzg"
      }
    },
    {
      "cell_type": "code",
      "source": [
        "label_list = []\n",
        "\n",
        "for _, labels in train_ds.unbatch():\n",
        "    label_list.append(tf.argmax(labels).numpy())\n",
        "\n",
        "counter = Counter(label_list)\n",
        "\n",
        "for idx, class_name in enumerate(class_names):\n",
        "    print(f'{class_name}: {counter[idx]} imágenes')"
      ],
      "metadata": {
        "colab": {
          "base_uri": "https://localhost:8080/"
        },
        "id": "VfwEwgpRAceY",
        "outputId": "12a1b027-8b36-4b3e-8854-58b45c58c5ec"
      },
      "execution_count": 12,
      "outputs": [
        {
          "output_type": "stream",
          "name": "stdout",
          "text": [
            "NORMAL: 1269 imágenes\n",
            "PNEUMONIA-BACTERIAL: 2110 imágenes\n",
            "PNEUMONIA-VIRAL: 1764 imágenes\n"
          ]
        }
      ]
    }
  ]
}