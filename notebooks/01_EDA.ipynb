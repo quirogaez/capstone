{
  "cells": [
    {
      "cell_type": "markdown",
      "id": "82a01dd4",
      "metadata": {
        "id": "82a01dd4"
      },
      "source": [
        "[![Open In Colab](https://colab.research.google.com/assets/colab-badge.svg)](https://colab.research.google.com/github/quirogaez/capstone/blob/main/notebooks/01_EDA.ipynb)"
      ]
    },
    {
      "cell_type": "markdown",
      "id": "ed830cbc",
      "metadata": {
        "id": "ed830cbc"
      },
      "source": [
        "# 01_EDA – Análisis Exploratorio de Datos"
      ]
    },
    {
      "cell_type": "code",
      "execution_count": 1,
      "id": "bdeec71b",
      "metadata": {
        "id": "bdeec71b"
      },
      "outputs": [],
      "source": [
        "import os\n",
        "import pandas as pd\n",
        "import numpy as np\n",
        "import matplotlib.pyplot as plt\n",
        "import seaborn as sns\n",
        "from glob import glob\n"
      ]
    },
    {
      "cell_type": "code",
      "source": [
        "print(\"holi\")"
      ],
      "metadata": {
        "id": "_DhD0ZDpQwoT",
        "outputId": "00b18529-4942-4396-f2a2-8f1ead984c44",
        "colab": {
          "base_uri": "https://localhost:8080/"
        }
      },
      "id": "_DhD0ZDpQwoT",
      "execution_count": 2,
      "outputs": [
        {
          "output_type": "stream",
          "name": "stdout",
          "text": [
            "holi\n"
          ]
        }
      ]
    }
  ],
  "metadata": {
    "kernelspec": {
      "display_name": "venv",
      "language": "python",
      "name": "python3"
    },
    "language_info": {
      "codemirror_mode": {
        "name": "ipython",
        "version": 3
      },
      "file_extension": ".py",
      "mimetype": "text/x-python",
      "name": "python",
      "nbconvert_exporter": "python",
      "pygments_lexer": "ipython3",
      "version": "3.12.2"
    },
    "colab": {
      "provenance": []
    }
  },
  "nbformat": 4,
  "nbformat_minor": 5
}