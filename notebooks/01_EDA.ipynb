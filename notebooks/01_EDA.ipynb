{
  "cells": [
    {
      "cell_type": "markdown",
      "id": "82a01dd4",
      "metadata": {
        "id": "82a01dd4"
      },
      "source": [
        "[![Open In Colab](https://colab.research.google.com/assets/colab-badge.svg)](https://colab.research.google.com/github/quirogaez/capstone/blob/main/notebooks/01_EDA.ipynb)"
      ]
    },
    {
      "cell_type": "markdown",
      "id": "ed830cbc",
      "metadata": {
        "id": "ed830cbc"
      },
      "source": [
        "# **01_EDA – Análisis Exploratorio de Datos**"
      ]
    },
    {
      "cell_type": "markdown",
      "source": [
        "## **Importación y cargue de imágenes**"
      ],
      "metadata": {
        "id": "MrXR1El1W0Su"
      },
      "id": "MrXR1El1W0Su"
    },
    {
      "cell_type": "code",
      "execution_count": 1,
      "id": "bdeec71b",
      "metadata": {
        "id": "bdeec71b"
      },
      "outputs": [],
      "source": [
        "# Importar librerías\n",
        "import os\n",
        "import random\n",
        "import numpy as np\n",
        "import pandas as pd\n",
        "import seaborn as sns\n",
        "from glob import glob\n",
        "from PIL import Image\n",
        "import tensorflow as tf\n",
        "import matplotlib.pyplot as plt"
      ]
    },
    {
      "cell_type": "code",
      "source": [
        "from google.colab import drive\n",
        "drive.mount('/content/drive')"
      ],
      "metadata": {
        "id": "_DhD0ZDpQwoT",
        "outputId": "fe2c3b30-380d-431e-84fb-ff39ad114e51",
        "colab": {
          "base_uri": "https://localhost:8080/"
        }
      },
      "id": "_DhD0ZDpQwoT",
      "execution_count": 2,
      "outputs": [
        {
          "output_type": "stream",
          "name": "stdout",
          "text": [
            "Drive already mounted at /content/drive; to attempt to forcibly remount, call drive.mount(\"/content/drive\", force_remount=True).\n"
          ]
        }
      ]
    },
    {
      "cell_type": "markdown",
      "source": [
        "### **Llamar los archivos**"
      ],
      "metadata": {
        "id": "yZpE2CDQXDfg"
      },
      "id": "yZpE2CDQXDfg"
    },
    {
      "cell_type": "code",
      "source": [
        "img_vali = '/content/drive/MyDrive/Capstone/data/val'\n",
        "img_train = '/content/drive/MyDrive/Capstone/data/train'\n",
        "img_test = '/content/drive/MyDrive/Capstone/data/test'\n",
        "\n",
        "# Ver archivos en la carpeta\n",
        "df_vali = os.listdir(img_vali)\n",
        "df_train = os.listdir(img_train)\n",
        "df_test = os.listdir(img_test)"
      ],
      "metadata": {
        "id": "SI6EUYnRSXhK"
      },
      "id": "SI6EUYnRSXhK",
      "execution_count": 3,
      "outputs": []
    },
    {
      "cell_type": "markdown",
      "source": [
        "## **Revisión de calidad de imágenes**"
      ],
      "metadata": {
        "id": "lYpgLLcqYZ1U"
      },
      "id": "lYpgLLcqYZ1U"
    },
    {
      "cell_type": "code",
      "source": [
        "def revisar_calidad_imagenes(ruta_base):\n",
        "    errores = []\n",
        "    tamanos = []\n",
        "    formatos = []\n",
        "\n",
        "    # Recorremos todas las subcarpetas (NORMAL y PNEUMONIA)\n",
        "    for subcarpeta in os.listdir(ruta_base):\n",
        "        ruta_subcarpeta = os.path.join(ruta_base, subcarpeta)\n",
        "        if os.path.isdir(ruta_subcarpeta):\n",
        "            for archivo in os.listdir(ruta_subcarpeta):\n",
        "                ruta_imagen = os.path.join(ruta_subcarpeta, archivo)\n",
        "                try:\n",
        "                    with Image.open(ruta_imagen) as img:\n",
        "                        tamanos.append(img.size)     # (ancho, alto)\n",
        "                        formatos.append(img.mode)    # RGB=a color, L=en escala de grises, etc.\n",
        "                except Exception as e:\n",
        "                    errores.append((ruta_imagen, str(e)))\n",
        "\n",
        "    print(f\"Total de imágenes revisadas: {len(tamanos) + len(errores)}\")\n",
        "    print(f\"Imágenes con error: {len(errores)}\")\n",
        "    if errores:\n",
        "        for ruta, error in errores:\n",
        "            print(f\"{ruta}: {error}\")\n",
        "\n",
        "    return tamanos, formatos"
      ],
      "metadata": {
        "id": "vDEJI0egVMlK"
      },
      "id": "vDEJI0egVMlK",
      "execution_count": 4,
      "outputs": []
    },
    {
      "cell_type": "code",
      "source": [
        "tm_vl,for_vl=revisar_calidad_imagenes(img_vali);\n",
        "print(tm_vl[:10],\"\\n\",for_vl[:10])"
      ],
      "metadata": {
        "colab": {
          "base_uri": "https://localhost:8080/"
        },
        "id": "uchK4euaYhbq",
        "outputId": "eecb39de-fae3-46c0-dd16-25638925a196"
      },
      "id": "uchK4euaYhbq",
      "execution_count": 5,
      "outputs": [
        {
          "output_type": "stream",
          "name": "stdout",
          "text": [
            "Total de imágenes revisadas: 16\n",
            "Imágenes con error: 0\n",
            "[(1664, 1128), (1416, 944), (1192, 952), (1072, 712), (1256, 864), (968, 592), (1152, 664), (1016, 656), (1272, 1040), (1288, 928)] \n",
            " ['L', 'L', 'L', 'L', 'L', 'L', 'L', 'L', 'L', 'L']\n"
          ]
        }
      ]
    },
    {
      "cell_type": "code",
      "source": [
        "tm_ts,for_ts=revisar_calidad_imagenes(img_test)\n",
        "print(tm_ts[:10],\"\\n\",for_ts[:10])"
      ],
      "metadata": {
        "colab": {
          "base_uri": "https://localhost:8080/"
        },
        "id": "EMGhvthUZ_Ka",
        "outputId": "834a3d83-14eb-4791-f242-6b0ec99ada46"
      },
      "id": "EMGhvthUZ_Ka",
      "execution_count": 6,
      "outputs": [
        {
          "output_type": "stream",
          "name": "stdout",
          "text": [
            "Total de imágenes revisadas: 624\n",
            "Imágenes con error: 0\n",
            "[(1056, 616), (912, 648), (1120, 808), (848, 632), (952, 680), (1190, 925), (1144, 784), (1106, 762), (1120, 592), (1288, 920)] \n",
            " ['L', 'L', 'L', 'L', 'L', 'L', 'L', 'L', 'L', 'L']\n"
          ]
        }
      ]
    },
    {
      "cell_type": "code",
      "source": [
        "tm_tr,for_tr=revisar_calidad_imagenes(img_train)\n",
        "print(tm_tr[:10],\"\\n\",for_tr[:10])"
      ],
      "metadata": {
        "id": "xtj-TIiDZ_My"
      },
      "id": "xtj-TIiDZ_My",
      "execution_count": null,
      "outputs": []
    },
    {
      "cell_type": "code",
      "source": [
        "len(tm_tr)"
      ],
      "metadata": {
        "id": "NdZVjpi7d7Ik"
      },
      "id": "NdZVjpi7d7Ik",
      "execution_count": null,
      "outputs": []
    },
    {
      "cell_type": "code",
      "source": [
        "def graficar_tamanos(tamanos, titulo, ax):\n",
        "    df = pd.DataFrame(tamanos, columns=[\"Ancho\", \"Alto\"])\n",
        "    sns.scatterplot(data=df, x=\"Ancho\", y=\"Alto\", alpha=0.6, ax=ax)\n",
        "    ax.set_title(titulo)\n",
        "    ax.set_xlabel(\"Ancho (px)\")\n",
        "    ax.set_ylabel(\"Alto (px)\")\n",
        "    ax.grid(True)\n",
        "\n",
        "\n",
        "fig, axs = plt.subplots(1, 3, figsize=(18, 5))  # 1 fila, 3 columnas\n",
        "graficar_tamanos(tm_vl, \"Distribución de tamaños en Validación\",axs[0])\n",
        "graficar_tamanos(tm_ts, \"Distribución de tamaños en Testeo\",axs[1])\n",
        "graficar_tamanos(tm_tr, \"Distribución de tamaños en Entrenamiento\",axs[2])\n",
        "plt.tight_layout()\n",
        "plt.show()"
      ],
      "metadata": {
        "id": "Jq_rIl45Z_H8"
      },
      "id": "Jq_rIl45Z_H8",
      "execution_count": null,
      "outputs": []
    },
    {
      "cell_type": "code",
      "source": [
        "def mostrar_imagenes_aleatorias(ruta_base, cantidad=10):\n",
        "    from PIL import Image\n",
        "    import matplotlib.pyplot as plt\n",
        "\n",
        "    # Recolectar rutas de todas las imágenes\n",
        "    rutas_imagenes = []\n",
        "    for subcarpeta in os.listdir(ruta_base):\n",
        "        ruta_subcarpeta = os.path.join(ruta_base, subcarpeta)\n",
        "        if os.path.isdir(ruta_subcarpeta):\n",
        "            for archivo in os.listdir(ruta_subcarpeta):\n",
        "                rutas_imagenes.append(os.path.join(ruta_subcarpeta, archivo))\n",
        "\n",
        "    seleccionadas = random.sample(rutas_imagenes, min(cantidad, len(rutas_imagenes)))\n",
        "\n",
        "    plt.figure(figsize=(15, 6))\n",
        "    for i, ruta in enumerate(seleccionadas):\n",
        "        with Image.open(ruta) as img:\n",
        "            plt.subplot(2, 5, i + 1)\n",
        "            plt.imshow(img, cmap='gray')  # 'gray' si son escala de grises\n",
        "            plt.title(os.path.basename(ruta), fontsize=8)\n",
        "            plt.axis('off')\n",
        "    plt.tight_layout()\n",
        "    plt.show()\n",
        "mostrar_imagenes_aleatorias(img_vali)"
      ],
      "metadata": {
        "id": "3FLxt_aHiPlU"
      },
      "id": "3FLxt_aHiPlU",
      "execution_count": null,
      "outputs": []
    },
    {
      "cell_type": "markdown",
      "source": [
        "# Redimensionamiento"
      ],
      "metadata": {
        "id": "9Gu9_PSBiwbT"
      },
      "id": "9Gu9_PSBiwbT"
    },
    {
      "cell_type": "code",
      "source": [
        "# Parámetros de entrada\n",
        "tamaño_imagen = (224, 224)\n",
        "batch_size = 32\n",
        "\n",
        "# Cargar datasets con redimensionamiento automático\n",
        "train_ds = tf.keras.preprocessing.image_dataset_from_directory(\n",
        "    img_train,\n",
        "    image_size=tamaño_imagen,  # Redimensiona automáticamente\n",
        "    batch_size=batch_size,\n",
        "    label_mode='categorical'  # o 'binary' o 'int' según el modelo\n",
        ")\n",
        "\n",
        "val_ds = tf.keras.preprocessing.image_dataset_from_directory(\n",
        "    img_vali,\n",
        "    image_size=tamaño_imagen,\n",
        "    batch_size=batch_size,\n",
        "    label_mode='categorical'\n",
        ")\n",
        "\n",
        "test_ds = tf.keras.preprocessing.image_dataset_from_directory(\n",
        "    img_test,\n",
        "    image_size=tamaño_imagen,\n",
        "    batch_size=batch_size,\n",
        "    label_mode='categorical'\n",
        ")"
      ],
      "metadata": {
        "id": "4x7ZCx_ZUniS"
      },
      "id": "4x7ZCx_ZUniS",
      "execution_count": null,
      "outputs": []
    },
    {
      "cell_type": "code",
      "source": [
        "class_names = val_ds.class_names  # ['NORMAL', 'PNEUMONIA']\n",
        "\n",
        "for images, labels in val_ds.take(1):\n",
        "    plt.figure(figsize=(15, 8))\n",
        "    for i in range(10):\n",
        "        ax = plt.subplot(2, 5, i + 1)\n",
        "        plt.imshow(images[i].numpy().astype(\"uint8\"))\n",
        "        class_index = np.argmax(labels[i].numpy())\n",
        "        plt.title(class_names[class_index])\n",
        "        plt.axis(\"off\")\n",
        "    plt.tight_layout()\n",
        "    plt.show()"
      ],
      "metadata": {
        "id": "7MKT3B6qk-Br"
      },
      "id": "7MKT3B6qk-Br",
      "execution_count": null,
      "outputs": []
    },
    {
      "cell_type": "markdown",
      "source": [
        "## redimención de forma local (opcional)"
      ],
      "metadata": {
        "id": "L6lHuTFBlSjL"
      },
      "id": "L6lHuTFBlSjL"
    },
    {
      "cell_type": "code",
      "source": [
        "# def redimensionar_imagenes(ruta_origen, ruta_destino, nuevo_tamano=(224, 224)):\n",
        "#     if not os.path.exists(ruta_destino):\n",
        "#         os.makedirs(ruta_destino)\n",
        "\n",
        "#     for clase in os.listdir(ruta_origen):  # NORMAL, PNEUMONIA\n",
        "#         ruta_clase_origen = os.path.join(ruta_origen, clase)\n",
        "#         ruta_clase_destino = os.path.join(ruta_destino, clase)\n",
        "\n",
        "#         if not os.path.exists(ruta_clase_destino):\n",
        "#             os.makedirs(ruta_clase_destino)\n",
        "\n",
        "#         for archivo in os.listdir(ruta_clase_origen):\n",
        "#             ruta_img_origen = os.path.join(ruta_clase_origen, archivo)\n",
        "#             ruta_img_destino = os.path.join(ruta_clase_destino, archivo)\n",
        "\n",
        "#             try:\n",
        "#                 with Image.open(ruta_img_origen) as img:\n",
        "#                     img_redimensionada = img.resize(nuevo_tamano)\n",
        "#                     img_redimensionada.save(ruta_img_destino)\n",
        "#             except Exception as e:\n",
        "#                 print(f\"Error con {ruta_img_origen}: {e}\")\n",
        "# # Directorios destino\n",
        "# ruta_base = \"/content/drive/MyDrive/Curso IA Samsung /Capstone/data\"\n",
        "# train_out = os.path.join(ruta_base, \"train_redim\")\n",
        "# test_out = os.path.join(ruta_base, \"test_redim\")\n",
        "# val_out = os.path.join(ruta_base, \"val_redim\")\n",
        "\n",
        "# # Redimensionar\n",
        "# redimensionar_imagenes(train, train_out)\n",
        "# redimensionar_imagenes(test, test_out)\n",
        "# redimensionar_imagenes(val, val_out)"
      ],
      "metadata": {
        "id": "iYJv8j1DldVD"
      },
      "id": "iYJv8j1DldVD",
      "execution_count": null,
      "outputs": []
    },
    {
      "cell_type": "markdown",
      "source": [
        "# Segmentación"
      ],
      "metadata": {
        "id": "FQNqBZqwpi5D"
      },
      "id": "FQNqBZqwpi5D"
    },
    {
      "cell_type": "code",
      "source": [
        "#En esta sección la idea sera implementar la segmentación, antes de normalizar"
      ],
      "metadata": {
        "id": "B9ikIhntpnuL"
      },
      "id": "B9ikIhntpnuL",
      "execution_count": null,
      "outputs": []
    },
    {
      "cell_type": "markdown",
      "source": [
        "# Normalización"
      ],
      "metadata": {
        "id": "71UhieSimCeb"
      },
      "id": "71UhieSimCeb"
    },
    {
      "cell_type": "code",
      "source": [
        "normalizar = lambda x, y: (tf.cast(x, tf.float32) / 255.0, y)\n",
        "\n",
        "train_ds = train_ds.map(normalizar)\n",
        "val_ds = val_ds.map(normalizar)\n",
        "test_ds = test_ds.map(normalizar)"
      ],
      "metadata": {
        "id": "Kkw7mz9SmCNT"
      },
      "id": "Kkw7mz9SmCNT",
      "execution_count": null,
      "outputs": []
    },
    {
      "cell_type": "markdown",
      "source": [
        "# Flatten o extracción de características"
      ],
      "metadata": {
        "id": "NX5UQcjNXh4C"
      },
      "id": "NX5UQcjNXh4C"
    },
    {
      "cell_type": "code",
      "source": [
        "# Paso 1: Extraer datos del dataset completo\n",
        "def dataset_to_numpy(dataset):\n",
        "    images_list = []\n",
        "    labels_list = []\n",
        "    for batch in dataset:\n",
        "        images, labels = batch\n",
        "        images_list.append(images.numpy())\n",
        "        labels_list.append(labels.numpy())\n",
        "    images_np = np.concatenate(images_list, axis=0)\n",
        "    labels_np = np.concatenate(labels_list, axis=0)\n",
        "    return images_np, labels_np\n",
        "\n",
        "# Convertimos los datos a NumPy\n",
        "X_train, y_train = dataset_to_numpy(train_ds)\n",
        "\n",
        "# Paso 2: Identificar índice de la clase \"PNEUMONIA\"\n",
        "print(\"Clases:\", class_names)  # ['NORMAL', 'PNEUMONIA']\n",
        "indice_pneumonia = class_names.index('PNEUMONIA')\n",
        "\n",
        "# Paso 3: Filtrar solo las imágenes con etiqueta PNEUMONIA\n",
        "mascara_pneumonia = np.argmax(y_train, axis=1) == indice_pneumonia\n",
        "X_pneumonia = X_train[mascara_pneumonia]\n",
        "\n",
        "print(\"Cantidad de imágenes con neumonía:\", X_pneumonia.shape[0])\n",
        "\n",
        "# Paso 4: Flatten\n",
        "X_pneumonia_flat = X_pneumonia.reshape(X_pneumonia.shape[0], -1)\n",
        "\n",
        "print(\"Forma original:\", X_pneumonia[0].shape)\n",
        "print(\"Forma aplanada:\", X_pneumonia_flat[0].shape)"
      ],
      "metadata": {
        "id": "JOoXsyIfXk2r"
      },
      "id": "JOoXsyIfXk2r",
      "execution_count": null,
      "outputs": []
    }
  ],
  "metadata": {
    "kernelspec": {
      "display_name": "venv",
      "language": "python",
      "name": "python3"
    },
    "language_info": {
      "codemirror_mode": {
        "name": "ipython",
        "version": 3
      },
      "file_extension": ".py",
      "mimetype": "text/x-python",
      "name": "python",
      "nbconvert_exporter": "python",
      "pygments_lexer": "ipython3",
      "version": "3.12.2"
    },
    "colab": {
      "provenance": []
    }
  },
  "nbformat": 4,
  "nbformat_minor": 5
}