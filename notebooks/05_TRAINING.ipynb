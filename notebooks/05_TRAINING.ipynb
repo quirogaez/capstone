{
 "cells": [
  {
   "cell_type": "markdown",
   "id": "37233328",
   "metadata": {},
   "source": [
    "<a href=\"https://colab.research.google.com/github/quirogaez/capstone/blob/main/notebooks/05_TRAINING.ipynb\" target=\"_parent\"><img src=\"https://colab.research.google.com/assets/colab-badge.svg\" alt=\"Open In Colab\"/></a>"
   ]
  },
  {
   "cell_type": "code",
   "execution_count": 1,
   "id": "2b932e5b",
   "metadata": {},
   "outputs": [],
   "source": [
    "# 01 – Imports y configuración global\n",
    "import os\n",
    "import random\n",
    "import numpy as np\n",
    "import tensorflow as tf\n",
    "\n",
    "from tensorflow import keras\n",
    "from tensorflow.keras import layers, callbacks\n",
    "from tensorflow.keras.applications import DenseNet121, EfficientNetB4\n",
    "from tensorflow.keras.applications.densenet import preprocess_input as densenet_preproc\n",
    "from tensorflow.keras.applications.efficientnet import preprocess_input as effnet_preproc\n",
    "\n",
    "# reproducibilidad\n",
    "SEED = 42\n",
    "os.environ['PYTHONHASHSEED'] = str(SEED)\n",
    "random.seed(SEED)\n",
    "np.random.seed(SEED)\n",
    "tf.random.set_seed(SEED)\n",
    "\n",
    "# mixed precision (si GPU lo soporta)\n",
    "tf.config.optimizer.set_experimental_options({'auto_mixed_precision': True})\n"
   ]
  }
 ],
 "metadata": {
  "kernelspec": {
   "display_name": "venv",
   "language": "python",
   "name": "python3"
  },
  "language_info": {
   "codemirror_mode": {
    "name": "ipython",
    "version": 3
   },
   "file_extension": ".py",
   "mimetype": "text/x-python",
   "name": "python",
   "nbconvert_exporter": "python",
   "pygments_lexer": "ipython3",
   "version": "3.12.2"
  }
 },
 "nbformat": 4,
 "nbformat_minor": 5
}
